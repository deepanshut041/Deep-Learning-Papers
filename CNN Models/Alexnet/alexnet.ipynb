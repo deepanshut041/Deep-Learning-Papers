{
 "cells": [
  {
   "cell_type": "markdown",
   "metadata": {},
   "source": [
    "# AlexNet\n",
    "AlexNet famously won the 2012 ImageNet LSVRC-2012 competition by a large margin (15.3% VS 26.2% (second place) error rates).\n",
    "\n",
    "### The highlights of the paper\n",
    "- Use Relu instead of Tanh to add non-linearity. It accelerates the speed by 6 times at the same accuracy.\n",
    "- Use dropout instead of regularisation to deal with overfitting. However the training time is doubled with the dropout rate of 0.5.\n",
    "- Overlap pooling to reduce the size of network. It reduces the top-1 and top-5 error rates by 0.4% and 0.3%, repectively."
   ]
  },
  {
   "cell_type": "markdown",
   "metadata": {},
   "source": [
    "### The architecture\n",
    "It contains 5 convolutional layers and 3 fully connected layers. Relu is applied after very convolutional and fully connected layer. Dropout is applied before the first and the second fully connected year. The image size in the following architecutre chart should be 227 * 227 instead of 224 * 224, as it is pointed out by Andrei Karpathy in his famous CS231n Course.\n",
    "\n",
    "![orignal_architech.png](./images/orignal_architech.png)"
   ]
  },
  {
   "cell_type": "markdown",
   "metadata": {},
   "source": [
    "# AlexNet implementation on Cifar 10"
   ]
  },
  {
   "cell_type": "code",
   "execution_count": 2,
   "metadata": {},
   "outputs": [
    {
     "name": "stdout",
     "output_type": "stream",
     "text": [
      "CUDA is available!  Training on GPU ...\n"
     ]
    }
   ],
   "source": [
    "import torch\n",
    "import numpy as np\n",
    "import pandas as pd\n",
    "import matplotlib.pyplot as plt\n",
    "%matplotlib inline\n",
    "\n",
    "is_gpu_available = torch.cuda.is_available()\n",
    "\n",
    "if is_gpu_available:\n",
    "    print(\"CUDA is available!  Training on GPU ...\")\n",
    "else:\n",
    "    print(\"CUDA is not available!  Training on CPU ...\")"
   ]
  },
  {
   "cell_type": "markdown",
   "metadata": {},
   "source": [
    "## Data Loading and Preprocessing"
   ]
  },
  {
   "cell_type": "markdown",
   "metadata": {},
   "source": [
    "### CIFAR10 small image classification\n",
    "Dataset of 50,000 32x32 color training images, labeled over 10 categories, and 10,000 test images.\n",
    "\n",
    "#### Returns 2 tuples:\n",
    "- **train_data**: uint8 array of RGB image data with shape (num_samples, 32, 32, 3).\n",
    "- **test_data**: uint8 array of category labels (integers in range 0-9) with shape (num_samples,)."
   ]
  },
  {
   "cell_type": "code",
   "execution_count": 3,
   "metadata": {},
   "outputs": [
    {
     "name": "stdout",
     "output_type": "stream",
     "text": [
      "Files already downloaded and verified\n",
      "Files already downloaded and verified\n"
     ]
    }
   ],
   "source": [
    "from torchvision.datasets import CIFAR10\n",
    "from torchvision.transforms import transforms\n",
    "from torch.utils.data.sampler import SubsetRandomSampler\n",
    "\n",
    "transform = transforms.Compose([\n",
    "    transforms.RandomHorizontalFlip(),\n",
    "    transforms.RandomRotation(10),\n",
    "    transforms.ToTensor(),\n",
    "    transforms.Normalize((0.5, 0.5, 0.5), (0.5, 0.5, 0.5))\n",
    "])\n",
    "\n",
    "train_data = CIFAR10('data', train=True, transform=transform, download=True)\n",
    "test_data = CIFAR10('data', train=True, transform=transform, download=True)"
   ]
  },
  {
   "cell_type": "code",
   "execution_count": 8,
   "metadata": {},
   "outputs": [
    {
     "name": "stdout",
     "output_type": "stream",
     "text": [
      "Number of training examples = 50000\n",
      "Number of testing examples = 50000\n",
      "Image data shape = torch.Size([3, 32, 32])\n",
      "Number of classes = 10\n"
     ]
    }
   ],
   "source": [
    "num_classes = 10\n",
    "print(\"Number of training examples =\", len(train_data))\n",
    "print(\"Number of testing examples =\", len(test_data))\n",
    "print(\"Image data shape =\", train_data[0][0].shape)\n",
    "print(\"Number of classes =\", num_classes)"
   ]
  },
  {
   "cell_type": "code",
   "execution_count": 9,
   "metadata": {},
   "outputs": [],
   "source": [
    "# specify the image classes\n",
    "classes = ['airplane', 'automobile', 'bird', 'cat', 'deer',\n",
    "           'dog', 'frog', 'horse', 'ship', 'truck']\n",
    "\n",
    "\n",
    "# obtain training indices that will be used for validation\n",
    "num_train = len(train_data)\n",
    "indices = list(range(num_train))\n",
    "np.random.shuffle(indices)\n",
    "split = int(np.floor(0.2 * num_train))\n",
    "train_idx, valid_idx = indices[split:], indices[:split]\n",
    "\n",
    "# define samplers for obtaining training and validation batches\n",
    "train_sampler = SubsetRandomSampler(train_idx)\n",
    "valid_sampler = SubsetRandomSampler(valid_idx)\n",
    "\n",
    "train_loader = torch.utils.data.DataLoader(dataset=train_data, batch_size=20, sampler=train_sampler)\n",
    "valid_loader = torch.utils.data.DataLoader(dataset=train_data, batch_size=20, sampler=valid_sampler)\n",
    "test_loader = torch.utils.data.DataLoader(dataset=test_data, batch_size=20)"
   ]
  },
  {
   "cell_type": "markdown",
   "metadata": {},
   "source": [
    "## Visualize a Batch of Training Data"
   ]
  },
  {
   "cell_type": "code",
   "execution_count": 13,
   "metadata": {},
   "outputs": [],
   "source": [
    "def imshow(image):\n",
    "    img = image.numpy()\n",
    "    img = img / 2 + 0.5  # unnormalize\n",
    "    plt.imshow(np.transpose(img, (1, 2, 0)))  # convert from Tensor image"
   ]
  },
  {
   "cell_type": "code",
   "execution_count": 14,
   "metadata": {},
   "outputs": [
    {
     "data": {
      "image/png": "[encoded data removed]",
      "text/plain": [
       "<Figure size 432x288 with 1 Axes>"
      ]
     },
     "metadata": {
      "needs_background": "light"
     },
     "output_type": "display_data"
    }
   ],
   "source": [
    "dataiter = iter(train_loader)\n",
    "images, labels = dataiter.next()\n",
    "imshow(images[0])"
   ]
  },
  {
   "cell_type": "markdown",
   "metadata": {},
   "source": [
    "## Model Implementation"
   ]
  },
  {
   "cell_type": "code",
   "execution_count": 16,
   "metadata": {},
   "outputs": [],
   "source": [
    "from torch.nn import Conv2d, MaxPool2d, Linear, Module, Softmax, Dropout, BatchNorm1d, BatchNorm2d\n",
    "import torch.nn.functional as F"
   ]
  },
  {
   "cell_type": "markdown",
   "metadata": {},
   "source": [
    "### Model Architecture\n",
    "The entire model consists of 14 layers in total. In addition to layers below lists what techniques are applied to build the model.\n",
    "\n",
    "- **Convolution with 64 different filters in size of (3x3)**\n",
    "    - ReLU activation function\n",
    "- **Max Pooling by 2**\n",
    "    - Batch Normalization\n",
    "- **Convolution with 128 different filters in size of (3x3)**\n",
    "    - ReLU activation function\n",
    "- **Max Pooling by 2**\n",
    "    - Batch Normalization\n",
    "- **Convolution with 256 different filters in size of (3x3)**\n",
    "    - ReLU activation function\n",
    "- **Max Pooling by 2**\n",
    "    - Batch Normalization\n",
    "- **Convolution with 512 different filters in size of (3x3)**\n",
    "    - ReLU activation function\n",
    "- **Max Pooling by 2**\n",
    "    - Batch Normalization\n",
    "- **Flattening the 3-D output of the last convolving operations.**\n",
    "- **Fully Connected Layer with 128 units**\n",
    "    - ReLU activation function\n",
    "    - Dropout\n",
    "    - Batch Normalization\n",
    "- **Fully Connected Layer with 256 units**\n",
    "    - ReLU activation function\n",
    "    - Dropout\n",
    "    - Batch Normalization\n",
    "- **Fully Connected Layer with 512 units**\n",
    "    - ReLU activation function\n",
    "    - Dropout\n",
    "    - Batch Normalization\n",
    "- **Fully Connected Layer with 1024 units**\n",
    "    - ReLU activation function\n",
    "    - Dropout\n",
    "    - Batch Normalization\n",
    "- **Fully Connected Layer with 10 units (number of image classes)**\n",
    "    - Softmax activation function"
   ]
  },
  {
   "cell_type": "code",
   "execution_count": null,
   "metadata": {},
   "outputs": [],
   "source": []
  },
  {
   "cell_type": "code",
   "execution_count": 22,
   "metadata": {},
   "outputs": [],
   "source": [
    "class Net(Module):\n",
    "    def __init__(self):\n",
    "        super(Net, self).__init__()\n",
    "        \n",
    "        self.conv1 = Conv2d(3, 64, 3, padding=1)\n",
    "        self.conv1_bn = BatchNorm2d(64)\n",
    "        \n",
    "        self.conv2 = Conv2d(64, 128, 3, padding=1)\n",
    "        self.conv2_bn = BatchNorm2d(128)\n",
    "        \n",
    "        self.conv3 = Conv2d(128, 256, 3, padding=1)\n",
    "        self.conv3_bn = BatchNorm2d(256)\n",
    "        \n",
    "        self.conv4 = Conv2d(256, 512, 3, padding=1)\n",
    "        self.conv4_bn = BatchNorm2d(512)\n",
    "        \n",
    "        self.fc1 = Linear(2*2*512, 128)\n",
    "        self.fc1_bn = BatchNorm1d(128)\n",
    "        \n",
    "        self.fc2 = Linear(128, 256)\n",
    "        self.fc2_bn = BatchNorm1d(256)\n",
    "        \n",
    "        self.fc3 = Linear(256, 512)\n",
    "        self.fc3_bn = BatchNorm1d(512)\n",
    "        \n",
    "        self.fc4 = Linear(512, 1024)\n",
    "        self.fc4_bn = BatchNorm1d(1024)\n",
    "        \n",
    "        self.fc5 = Linear(1024, 10)\n",
    "        \n",
    "        self.dropout = Dropout(0.25)\n",
    "        \n",
    "        self.pool = MaxPool2d(2, stride=2)\n",
    "        \n",
    "        \n",
    "    def forward(self, x):\n",
    "        x = F.relu(self.conv1(x))\n",
    "        x = self.conv1_bn(self.pool(x))\n",
    "        \n",
    "        x = F.relu(self.conv2(x))\n",
    "        x = self.conv2_bn(self.pool(x))\n",
    "        \n",
    "        x = F.relu(self.conv3(x))\n",
    "        x = self.conv3_bn(self.pool(x))\n",
    "        \n",
    "        x = F.relu(self.conv4(x))\n",
    "        x = self.conv4_bn(self.pool(x))\n",
    "        \n",
    "        x = x.view(-1, 2*2*512)\n",
    "        \n",
    "        x = F.relu(self.fc1(x))\n",
    "        x = self.fc1_bn(self.dropout(x))\n",
    "        \n",
    "        x = F.relu(self.fc2(x))\n",
    "        x = self.fc2_bn(self.dropout(x))\n",
    "        \n",
    "        x = F.relu(self.fc3(x))\n",
    "        x = self.fc3_bn(self.dropout(x))\n",
    "        \n",
    "        x = F.relu(self.fc4(x))\n",
    "        x = self.fc4_bn(self.dropout(x))\n",
    "        \n",
    "        x = self.fc5(x)\n",
    "        \n",
    "        return x"
   ]
  },
  {
   "cell_type": "code",
   "execution_count": 23,
   "metadata": {
    "scrolled": true
   },
   "outputs": [
    {
     "name": "stdout",
     "output_type": "stream",
     "text": [
      "Net(\n",
      "  (conv1): Conv2d(3, 64, kernel_size=(3, 3), stride=(1, 1), padding=(1, 1))\n",
      "  (conv1_bn): BatchNorm2d(64, eps=1e-05, momentum=0.1, affine=True, track_running_stats=True)\n",
      "  (conv2): Conv2d(64, 128, kernel_size=(3, 3), stride=(1, 1), padding=(1, 1))\n",
      "  (conv2_bn): BatchNorm2d(128, eps=1e-05, momentum=0.1, affine=True, track_running_stats=True)\n",
      "  (conv3): Conv2d(128, 256, kernel_size=(3, 3), stride=(1, 1), padding=(1, 1))\n",
      "  (conv3_bn): BatchNorm2d(256, eps=1e-05, momentum=0.1, affine=True, track_running_stats=True)\n",
      "  (conv4): Conv2d(256, 512, kernel_size=(3, 3), stride=(1, 1), padding=(1, 1))\n",
      "  (conv4_bn): BatchNorm2d(512, eps=1e-05, momentum=0.1, affine=True, track_running_stats=True)\n",
      "  (fc1): Linear(in_features=2048, out_features=128, bias=True)\n",
      "  (fc1_bn): BatchNorm1d(128, eps=1e-05, momentum=0.1, affine=True, track_running_stats=True)\n",
      "  (fc2): Linear(in_features=128, out_features=256, bias=True)\n",
      "  (fc2_bn): BatchNorm1d(256, eps=1e-05, momentum=0.1, affine=True, track_running_stats=True)\n",
      "  (fc3): Linear(in_features=256, out_features=512, bias=True)\n",
      "  (fc3_bn): BatchNorm1d(512, eps=1e-05, momentum=0.1, affine=True, track_running_stats=True)\n",
      "  (fc4): Linear(in_features=512, out_features=1024, bias=True)\n",
      "  (fc4_bn): BatchNorm1d(1024, eps=1e-05, momentum=0.1, affine=True, track_running_stats=True)\n",
      "  (fc5): Linear(in_features=1024, out_features=10, bias=True)\n",
      "  (dropout): Dropout(p=0.25)\n",
      "  (pool): MaxPool2d(kernel_size=2, stride=2, padding=0, dilation=1, ceil_mode=False)\n",
      ")\n"
     ]
    }
   ],
   "source": [
    "# create a complete CNN\n",
    "model = Net()\n",
    "print(model)\n",
    "\n",
    "if is_gpu_available:\n",
    "    model.cuda()"
   ]
  },
  {
   "cell_type": "code",
   "execution_count": 24,
   "metadata": {},
   "outputs": [],
   "source": [
    "from torch.nn import CrossEntropyLoss\n",
    "import torch.optim as optim\n",
    "\n",
    "# specify loss function (categorical cross-entropy)\n",
    "criterion = CrossEntropyLoss()\n",
    "\n",
    "# specify optimizer\n",
    "optimizer = optim.SGD(model.parameters(), lr=0.01)"
   ]
  },
  {
   "cell_type": "markdown",
   "metadata": {},
   "source": [
    "## Training"
   ]
  },
  {
   "cell_type": "code",
   "execution_count": 25,
   "metadata": {},
   "outputs": [
    {
     "name": "stdout",
     "output_type": "stream",
     "text": [
      "Epoch: 1 \tTraining Loss: 1.327045 \tValidation Loss: 0.250661\n",
      "Validation loss decreased (inf --> 0.250661).  Saving model ...\n",
      "Epoch: 2 \tTraining Loss: 1.054061 \tValidation Loss: 0.219735\n",
      "Validation loss decreased (0.250661 --> 0.219735).  Saving model ...\n",
      "Epoch: 3 \tTraining Loss: 0.929456 \tValidation Loss: 0.189043\n",
      "Validation loss decreased (0.219735 --> 0.189043).  Saving model ...\n",
      "Epoch: 4 \tTraining Loss: 0.853516 \tValidation Loss: 0.175183\n",
      "Validation loss decreased (0.189043 --> 0.175183).  Saving model ...\n",
      "Epoch: 5 \tTraining Loss: 0.776467 \tValidation Loss: 0.161949\n",
      "Validation loss decreased (0.175183 --> 0.161949).  Saving model ...\n",
      "Epoch: 6 \tTraining Loss: 0.720792 \tValidation Loss: 0.156949\n",
      "Validation loss decreased (0.161949 --> 0.156949).  Saving model ...\n",
      "Epoch: 7 \tTraining Loss: 0.682167 \tValidation Loss: 0.147626\n",
      "Validation loss decreased (0.156949 --> 0.147626).  Saving model ...\n",
      "Epoch: 8 \tTraining Loss: 0.644535 \tValidation Loss: 0.140517\n",
      "Validation loss decreased (0.147626 --> 0.140517).  Saving model ...\n",
      "Epoch: 9 \tTraining Loss: 0.601212 \tValidation Loss: 0.142497\n",
      "Epoch: 10 \tTraining Loss: 0.577562 \tValidation Loss: 0.131555\n",
      "Validation loss decreased (0.140517 --> 0.131555).  Saving model ...\n",
      "Epoch: 11 \tTraining Loss: 0.552573 \tValidation Loss: 0.126132\n",
      "Validation loss decreased (0.131555 --> 0.126132).  Saving model ...\n",
      "Epoch: 12 \tTraining Loss: 0.533350 \tValidation Loss: 0.122784\n",
      "Validation loss decreased (0.126132 --> 0.122784).  Saving model ...\n",
      "Epoch: 13 \tTraining Loss: 0.502480 \tValidation Loss: 0.122420\n",
      "Validation loss decreased (0.122784 --> 0.122420).  Saving model ...\n",
      "Epoch: 14 \tTraining Loss: 0.487424 \tValidation Loss: 0.121431\n",
      "Validation loss decreased (0.122420 --> 0.121431).  Saving model ...\n",
      "Epoch: 15 \tTraining Loss: 0.468158 \tValidation Loss: 0.115993\n",
      "Validation loss decreased (0.121431 --> 0.115993).  Saving model ...\n",
      "Epoch: 16 \tTraining Loss: 0.454689 \tValidation Loss: 0.116668\n",
      "Epoch: 17 \tTraining Loss: 0.435424 \tValidation Loss: 0.115802\n",
      "Validation loss decreased (0.115993 --> 0.115802).  Saving model ...\n",
      "Epoch: 18 \tTraining Loss: 0.418747 \tValidation Loss: 0.111513\n",
      "Validation loss decreased (0.115802 --> 0.111513).  Saving model ...\n",
      "Epoch: 19 \tTraining Loss: 0.402198 \tValidation Loss: 0.112521\n",
      "Epoch: 20 \tTraining Loss: 0.393418 \tValidation Loss: 0.108182\n",
      "Validation loss decreased (0.111513 --> 0.108182).  Saving model ...\n",
      "Epoch: 21 \tTraining Loss: 0.370421 \tValidation Loss: 0.111794\n",
      "Epoch: 22 \tTraining Loss: 0.364761 \tValidation Loss: 0.115377\n",
      "Epoch: 23 \tTraining Loss: 0.351620 \tValidation Loss: 0.113778\n",
      "Epoch: 24 \tTraining Loss: 0.357229 \tValidation Loss: 0.109073\n",
      "Epoch: 25 \tTraining Loss: 0.327638 \tValidation Loss: 0.113168\n",
      "Epoch: 26 \tTraining Loss: 0.318707 \tValidation Loss: 0.107431\n",
      "Validation loss decreased (0.108182 --> 0.107431).  Saving model ...\n",
      "Epoch: 27 \tTraining Loss: 0.307155 \tValidation Loss: 0.109119\n",
      "Epoch: 28 \tTraining Loss: 0.293099 \tValidation Loss: 0.110775\n",
      "Epoch: 29 \tTraining Loss: 0.285829 \tValidation Loss: 0.110615\n",
      "Epoch: 30 \tTraining Loss: 0.275732 \tValidation Loss: 0.113415\n"
     ]
    }
   ],
   "source": [
    "# number of epochs to train the model\n",
    "n_epochs = 30\n",
    "\n",
    "valid_loss_min = np.Inf # track change in validation loss\n",
    "total_train_loss = []\n",
    "total_valid_loss = []\n",
    "\n",
    "for epoch in range(1, n_epochs+1):\n",
    "\n",
    "    # keep track of training and validation loss\n",
    "    train_loss = 0.0\n",
    "    valid_loss = 0.0\n",
    "    \n",
    "    ###################\n",
    "    # train the model #\n",
    "    ###################\n",
    "    model.train()\n",
    "    for data, target in train_loader:\n",
    "        # clear the gradients of all optimized variables\n",
    "        if is_gpu_available:\n",
    "            data, target = data.cuda(), target.cuda()\n",
    "        optimizer.zero_grad()\n",
    "        # forward pass: compute predicted outputs by passing inputs to the model\n",
    "        output = model(data)\n",
    "        # calculate the batch loss\n",
    "        loss = criterion(output, target)\n",
    "        # backward pass: compute gradient of the loss with respect to model parameters\n",
    "        loss.backward()\n",
    "        # perform a single optimization step (parameter update)\n",
    "        optimizer.step()\n",
    "        # update training loss\n",
    "        train_loss += loss.item()*data.size(0)\n",
    "        \n",
    "    ######################    \n",
    "    # validate the model #\n",
    "    ######################\n",
    "    model.eval()\n",
    "    for data, target in valid_loader:\n",
    "        # forward pass: compute predicted outputs by passing inputs to the model\n",
    "        if is_gpu_available:\n",
    "            data, target = data.cuda(), target.cuda()\n",
    "        \n",
    "        output = model(data)\n",
    "        # calculate the batch loss\n",
    "        loss = criterion(output, target)\n",
    "        # update average validation loss \n",
    "        valid_loss += loss.item()*data.size(0)\n",
    "    \n",
    "    # calculate average losses\n",
    "    train_loss = train_loss/len(train_loader.dataset)\n",
    "    valid_loss = valid_loss/len(valid_loader.dataset)\n",
    "    \n",
    "    total_train_loss.append(train_loss)\n",
    "    total_valid_loss.append(valid_loss)\n",
    "        \n",
    "    # print training/validation statistics \n",
    "    print('Epoch: {} \\tTraining Loss: {:.6f} \\tValidation Loss: {:.6f}'.format(\n",
    "        epoch, train_loss, valid_loss))\n",
    "    \n",
    "    # save model if validation loss has decreased\n",
    "    if valid_loss <= valid_loss_min:\n",
    "        print('Validation loss decreased ({:.6f} --> {:.6f}).  Saving model ...'.format(\n",
    "        valid_loss_min,\n",
    "        valid_loss))\n",
    "        torch.save(model.state_dict(), 'model_cifar.pt')\n",
    "        valid_loss_min = valid_loss"
   ]
  },
  {
   "cell_type": "markdown",
   "metadata": {},
   "source": [
    "## Testing"
   ]
  },
  {
   "cell_type": "code",
   "execution_count": 26,
   "metadata": {},
   "outputs": [
    {
     "name": "stdout",
     "output_type": "stream",
     "text": [
      "Test Loss: 0.303076\n",
      "\n",
      "Test Accuracy of airplane: 91% (4580/5000)\n",
      "Test Accuracy of automobile: 96% (4827/5000)\n",
      "Test Accuracy of  bird: 87% (4390/5000)\n",
      "Test Accuracy of   cat: 78% (3916/5000)\n",
      "Test Accuracy of  deer: 91% (4576/5000)\n",
      "Test Accuracy of   dog: 85% (4299/5000)\n",
      "Test Accuracy of  frog: 92% (4648/5000)\n",
      "Test Accuracy of horse: 93% (4658/5000)\n",
      "Test Accuracy of  ship: 95% (4791/5000)\n",
      "Test Accuracy of truck: 93% (4678/5000)\n",
      "\n",
      "Test Accuracy (Overall): 90% (45363/50000)\n"
     ]
    }
   ],
   "source": [
    "model.load_state_dict(torch.load('model_cifar.pt'))\n",
    "# track test loss\n",
    "test_loss = 0.0\n",
    "class_correct = list(0. for i in range(10))\n",
    "class_total = list(0. for i in range(10))\n",
    "\n",
    "model.eval()\n",
    "# iterate over test data\n",
    "for data, target in test_loader:\n",
    "    # move tensors to GPU if CUDA is available\n",
    "    data, target = data.cuda(), target.cuda()\n",
    "    # forward pass: compute predicted outputs by passing inputs to the model\n",
    "    output = model(data)\n",
    "    # calculate the batch loss\n",
    "    loss = criterion(output, target)\n",
    "    # update test loss \n",
    "    test_loss += loss.item()*data.size(0)\n",
    "    # convert output probabilities to predicted class\n",
    "    _, pred = torch.max(output, 1)    \n",
    "    # compare predictions to true label\n",
    "    correct_tensor = pred.eq(target.data.view_as(pred))\n",
    "    correct = np.squeeze(correct_tensor.cpu().numpy())\n",
    "    # calculate test accuracy for each object class\n",
    "    for i in range(20):\n",
    "        label = target.data[i]\n",
    "        class_correct[label] += correct[i].item()\n",
    "        class_total[label] += 1\n",
    "\n",
    "# average test loss\n",
    "test_loss = test_loss/len(test_loader.dataset)\n",
    "print('Test Loss: {:.6f}\\n'.format(test_loss))\n",
    "\n",
    "for i in range(10):\n",
    "    if class_total[i] > 0:\n",
    "        print('Test Accuracy of %5s: %2d%% (%2d/%2d)' % (\n",
    "            classes[i], 100 * class_correct[i] / class_total[i],\n",
    "            np.sum(class_correct[i]), np.sum(class_total[i])))\n",
    "    else:\n",
    "        print('Test Accuracy of %5s: N/A (no training examples)' % (classes[i]))\n",
    "\n",
    "print('\\nTest Accuracy (Overall): %2d%% (%2d/%2d)' % (\n",
    "    100. * np.sum(class_correct) / np.sum(class_total),\n",
    "    np.sum(class_correct), np.sum(class_total)))"
   ]
  },
  {
   "cell_type": "code",
   "execution_count": 11,
   "metadata": {},
   "outputs": [],
   "source": [
    "model.save('model.h5')\n",
    "history = model.history"
   ]
  },
  {
   "cell_type": "markdown",
   "metadata": {},
   "source": [
    "## Results\n",
    " \n",
    "### Training from scratch\n",
    "\n",
    "Training AlexNet, using stochastic gradient descent with a fixed learning rate of 0.01, for 50 epochs, we acheive a test accuracy of ~76.75%.\n",
    "\n",
    "In accuracy and loss plot shown below, notice the large gap between the training and testing curves. This suggests that our model is overfitting."
   ]
  },
  {
   "cell_type": "code",
   "execution_count": 12,
   "metadata": {},
   "outputs": [
    {
     "data": {
      "image/png": "[encoded data removed]",
      "text/plain": [
       "<Figure size 432x288 with 1 Axes>"
      ]
     },
     "metadata": {
      "needs_background": "light"
     },
     "output_type": "display_data"
    }
   ],
   "source": [
    "# Plot training & validation accuracy values\n",
    "plt.plot(history.history['acc'])\n",
    "plt.plot(history.history['val_acc'])\n",
    "plt.title('Model accuracy')\n",
    "plt.ylabel('Accuracy')\n",
    "plt.xlabel('Epoch')\n",
    "plt.legend(['Train', 'Test'], loc='upper left')\n",
    "plt.show()"
   ]
  },
  {
   "cell_type": "code",
   "execution_count": 13,
   "metadata": {},
   "outputs": [
    {
     "data": {
      "image/png": "[encoded data removed]",
      "text/plain": [
       "<Figure size 432x288 with 1 Axes>"
      ]
     },
     "metadata": {
      "needs_background": "light"
     },
     "output_type": "display_data"
    }
   ],
   "source": [
    "# Plot training & validation loss values\n",
    "plt.plot(history.history['loss'])\n",
    "plt.plot(history.history['val_loss'])\n",
    "plt.title('Model loss')\n",
    "plt.ylabel('Loss')\n",
    "plt.xlabel('Epoch')\n",
    "plt.legend(['Train', 'Test'], loc='upper left')\n",
    "plt.show()"
   ]
  },
  {
   "cell_type": "markdown",
   "metadata": {},
   "source": [
    "### Todo\n",
    "- Expriment to stop model overfiting"
   ]
  }
 ],
 "metadata": {
  "kernelspec": {
   "display_name": "Python 3",
   "language": "python",
   "name": "python3"
  },
  "language_info": {
   "codemirror_mode": {
    "name": "ipython",
    "version": 3
   },
   "file_extension": ".py",
   "mimetype": "text/x-python",
   "name": "python",
   "nbconvert_exporter": "python",
   "pygments_lexer": "ipython3",
   "version": "3.6.8"
  }
 },
 "nbformat": 4,
 "nbformat_minor": 2
}
