{
 "cells": [
  {
   "cell_type": "markdown",
   "metadata": {},
   "source": [
    "# GoogLeNet (Inception v1)\n",
    "GoogLeNet won the LSVRC-2014 competition. It has significant improvement over ZFNet (The winner in 2013) and AlexNet (The winner in 2012) and has relatively lower error rate compared with the VGGNet(1st runner-up in 2014).\n",
    "\n",
    "### The highlights of the paper\n",
    "- It contains 1×1 Convolution at the middle of the network. 1×1 convolution is used as a dimension reduction module to reduce the computation. By reducing the computation bottleneck, depth and width can be increased.\n",
    "- Global average pooling is used at the end of the network instead of using fully connected layers. Global Average can be less prone to overfitting\n",
    "- Inception module, is to have different sizes/types of convolutions for the same input and stacking all the outputs.\n",
    "- Local Response Normalization"
   ]
  },
  {
   "cell_type": "markdown",
   "metadata": {},
   "source": [
    "### The architecture\n",
    "#### Global average pooling\n",
    "![gap_layer.png](./images/gap_layer.png)\n",
    "Global average pooling (GAP) layers to minimize overfitting by reducing the total number of parameters in the model. Similar to max pooling layers, GAP layers are used to reduce the spatial dimensions of a three-dimensional tensor. However, GAP layers perform a more extreme type of dimensionality reduction, where a tensor with dimensions h×w×d is reduced in size to have dimensions 1×1×d. GAP layers reduce each h×w feature map to a single number by simply taking the average of all hw values.\n",
    "\n",
    "#### Local Response Normalization\n",
    "This layer is useful when we are dealing with ReLU neurons. Why is that? Because ReLU neurons have unbounded activations and we need LRN to normalize that. We want to detect high frequency features with a large response. If we normalize around the local neighborhood of the excited neuron, it becomes even more sensitive as compared to its neighbors. At the same time, it will dampen the responses that are uniformly large in any given local neighborhood. If all the values are large, then normalizing those values will diminish all of them. So basically we want to encourage some kind of inhibition and boost the neurons with relatively larger activations. \n",
    "\n",
    "#### Inception Module\n",
    "<div width=\"100%\">\n",
    "    <img src=\"./images/inception_naive.png\" width=\"40%\">\n",
    "    <img src=\"./images/inception_reduction.png\" width=\"40%\">\n",
    "<div>\n",
    "The intention is to let the neural network learn the best weights when training the network and automatically select the more useful features. Additionally, it intends to reduce the no. of dimensions so that the no. of units and layers can be increased at later stages. The side-effect of this is to increase the computational cost for training this layer. To address this, a number of solutions have been suggested in the paper such as to deploy parallel computations for this architecture.\n",
    "\n",
    "#### Overall Architecture\n",
    "GoogLeNet has 9 such inception modules stacked linearly. It is 22 layers deep (27, including the pooling layers). It uses global average pooling at the end of the last inception module. To prevent the middle part of the network from “dying out”, the authors introduced two auxiliary classifiers. They essentially applied softmax to the outputs of two of the inception modules, and computed an auxiliary loss over the same labels. The total loss function is a weighted sum of the auxiliary loss and the real loss.\n",
    "\n",
    "![orignal_architech.png](./images/original_architecture.png)"
   ]
  },
  {
   "cell_type": "markdown",
   "metadata": {},
   "source": [
    "# GoogLeNet implementation on Cifar 10"
   ]
  },
  {
   "cell_type": "code",
   "execution_count": 1,
   "metadata": {},
   "outputs": [],
   "source": [
    "import tensorflow as tf\n",
    "import numpy as np\n",
    "import pandas as pd\n",
    "import matplotlib.pyplot as plt\n",
    "%matplotlib inline"
   ]
  },
  {
   "cell_type": "markdown",
   "metadata": {},
   "source": [
    "## Data Loading and Preprocessing"
   ]
  },
  {
   "cell_type": "markdown",
   "metadata": {},
   "source": [
    "### CIFAR10 small image classification\n",
    "Dataset of 50,000 32x32 color training images, labeled over 10 categories, and 10,000 test images.\n",
    "\n",
    "#### Returns 2 tuples:\n",
    "- **x_train, x_test**: uint8 array of RGB image data with shape (num_samples, 32, 32, 3).\n",
    "- **y_train, y_test**: uint8 array of category labels (integers in range 0-9) with shape (num_samples,)."
   ]
  },
  {
   "cell_type": "code",
   "execution_count": 2,
   "metadata": {},
   "outputs": [],
   "source": [
    "from tensorflow.keras.datasets import cifar10\n",
    "(x_train, y_train), (x_test, y_test) = cifar10.load_data()"
   ]
  },
  {
   "cell_type": "code",
   "execution_count": 3,
   "metadata": {
    "scrolled": true
   },
   "outputs": [
    {
     "name": "stdout",
     "output_type": "stream",
     "text": [
      "Number of training examples = 50000\n",
      "Number of testing examples = 10000\n",
      "Image data shape = (32, 32, 3)\n",
      "Number of classes = 10\n"
     ]
    }
   ],
   "source": [
    "num_classes = 10\n",
    "print(\"Number of training examples =\", len(x_train))\n",
    "print(\"Number of testing examples =\", len(x_test))\n",
    "print(\"Image data shape =\", x_train[0].shape)\n",
    "print(\"Number of classes =\", num_classes)"
   ]
  },
  {
   "cell_type": "code",
   "execution_count": 4,
   "metadata": {},
   "outputs": [],
   "source": [
    "x_train = x_train/255.\n",
    "x_test = x_test/255."
   ]
  },
  {
   "cell_type": "code",
   "execution_count": 5,
   "metadata": {},
   "outputs": [],
   "source": [
    "# convert to one hot encoing \n",
    "y_train = tf.keras.utils.to_categorical(y_train, num_classes)\n",
    "y_test = tf.keras.utils.to_categorical(y_test, num_classes)"
   ]
  },
  {
   "cell_type": "markdown",
   "metadata": {},
   "source": [
    "## Model Implementation"
   ]
  },
  {
   "cell_type": "code",
   "execution_count": 6,
   "metadata": {},
   "outputs": [],
   "source": [
    "from tensorflow.keras.layers import Conv2D, MaxPool2D, Dense, Input, Activation, BatchNormalization, Flatten, Dropout, Concatenate, AveragePooling2D \n",
    "from tensorflow.keras.models import Model"
   ]
  },
  {
   "cell_type": "markdown",
   "metadata": {},
   "source": [
    "### Model Architecture\n",
    "The entire model consists of 19 inception layers in total.\n",
    "![inception_parameters.png](./images/inception_parameters.png)"
   ]
  },
  {
   "cell_type": "code",
   "execution_count": 7,
   "metadata": {},
   "outputs": [],
   "source": [
    "def inception_module(layer, keys):\n",
    "    layer_1 = Conv2D(filters=keys['1_conv'], kernel_size=(1, 1), padding='same', activation='relu')(layer)\n",
    "    \n",
    "    layer_2 = Conv2D(filters=keys['3_convr'], kernel_size=(1, 1), padding='same', activation='relu')(layer)\n",
    "    layer_2 = Conv2D(filters=keys['3_conv'], kernel_size=(3, 3), padding='same', activation='relu')(layer_2)\n",
    "    \n",
    "    layer_3 = Conv2D(filters=keys['5_convr'], kernel_size=(1, 1), padding='same', activation='relu')(layer)\n",
    "    layer_3 = Conv2D(filters=keys['5_conv'], kernel_size=(5, 5), padding='same', activation='relu')(layer_3)\n",
    "    \n",
    "    layer_4 = MaxPool2D(pool_size=(3, 3), padding='same', strides=(1,1))(layer)\n",
    "    layer_4 = Conv2D(filters=keys['pool_p'], kernel_size=(1, 1), padding='same', activation='relu')(layer_4)\n",
    "    \n",
    "    return Concatenate(axis=3)([layer_1, layer_2, layer_3, layer_4])"
   ]
  },
  {
   "cell_type": "code",
   "execution_count": 8,
   "metadata": {},
   "outputs": [],
   "source": [
    "inception_keys = {\n",
    "    \"3a\" : {\n",
    "        \"1_conv\": 64,\n",
    "        \"3_convr\": 96,\n",
    "        \"3_conv\": 128,\n",
    "        \"5_convr\": 16,\n",
    "        \"5_conv\": 32,\n",
    "        \"pool_p\": 32\n",
    "    },\n",
    "    \"3b\" : {\n",
    "        \"1_conv\": 128,\n",
    "        \"3_convr\": 128,\n",
    "        \"3_conv\": 192,\n",
    "        \"5_convr\": 32,\n",
    "        \"5_conv\": 96,\n",
    "        \"pool_p\": 64\n",
    "    },\n",
    "    \"4a\" : {\n",
    "        \"1_conv\": 192,\n",
    "        \"3_convr\": 96,\n",
    "        \"3_conv\": 208,\n",
    "        \"5_convr\": 16,\n",
    "        \"5_conv\": 48,\n",
    "        \"pool_p\": 64\n",
    "    },\n",
    "    \"4b\" : {\n",
    "        \"1_conv\": 160,\n",
    "        \"3_convr\": 112,\n",
    "        \"3_conv\": 224,\n",
    "        \"5_convr\": 24,\n",
    "        \"5_conv\": 64,\n",
    "        \"pool_p\": 64,\n",
    "    },\n",
    "    \"4c\" : {\n",
    "        \"1_conv\": 128,\n",
    "        \"3_convr\": 128,\n",
    "        \"3_conv\": 256,\n",
    "        \"5_convr\": 24,\n",
    "        \"5_conv\": 64,\n",
    "        \"pool_p\": 64\n",
    "    },\n",
    "    \"4d\" : {\n",
    "        \"1_conv\": 112,\n",
    "        \"3_convr\": 144,\n",
    "        \"3_conv\": 288,\n",
    "        \"5_convr\": 32,\n",
    "        \"5_conv\": 64,\n",
    "        \"pool_p\": 64,\n",
    "    },\n",
    "    \"4e\" : {\n",
    "        \"1_conv\": 256,\n",
    "        \"3_convr\": 160,\n",
    "        \"3_conv\": 320,\n",
    "        \"5_convr\": 32,\n",
    "        \"5_conv\": 128,\n",
    "        \"pool_p\": 128\n",
    "    },\n",
    "    \"5a\" : {\n",
    "        \"1_conv\": 256,\n",
    "        \"3_convr\": 160,\n",
    "        \"3_conv\": 320,\n",
    "        \"5_convr\": 32,\n",
    "        \"5_conv\": 128,\n",
    "        \"pool_p\": 128\n",
    "    },\n",
    "    \"5b\" : {\n",
    "        \"1_conv\": 384,\n",
    "        \"3_convr\": 192,\n",
    "        \"3_conv\": 384,\n",
    "        \"5_convr\": 48,\n",
    "        \"5_conv\": 128,\n",
    "        \"pool_p\": 128\n",
    "    }\n",
    "}"
   ]
  },
  {
   "cell_type": "code",
   "execution_count": 22,
   "metadata": {},
   "outputs": [],
   "source": [
    "def create_model():\n",
    "    # Input Layer\n",
    "    inputs = Input(x_train[0].shape)\n",
    "    \n",
    "    # Layer 1 Convolution + MaxPooling + BatchNormalization. Ommiting stride (2, 2) due to small size image\n",
    "    layer_1 = Conv2D(filters=64, kernel_size=(7, 7), padding='same', activation='relu')(inputs)\n",
    "    layer_1 = MaxPool2D(pool_size=(3, 3), strides=(2, 2), padding='same')(layer_1)\n",
    "    \n",
    "    # Layer 2 Convolution \n",
    "    layer_2 = Conv2D(filters=64, kernel_size=(1, 1), strides=(1, 1), padding='same', activation='relu')(layer_1)\n",
    "\n",
    "    # Layer 3 Convolution + MaxPooling\n",
    "    layer_3 = Conv2D(filters=192, kernel_size=(3, 3), strides=(1, 1), padding='same', activation='relu')(layer_2)\n",
    "    layer_3 = MaxPool2D(pool_size=(3, 3), strides=(2, 2), padding='same')(layer_3)\n",
    "    \n",
    "    # Layer 4 Inception 3a\n",
    "    layer_4 = inception_module(layer_3, inception_keys['3a'])\n",
    "    \n",
    "    # Layer 5 Inception 3b\n",
    "    layer_5 = inception_module(layer_4, inception_keys['3b'])\n",
    "    \n",
    "    # Layer 6 Max Pool\n",
    "    layer_6 = MaxPool2D(pool_size=(3, 3), strides=(2, 2), padding='same')(layer_5)\n",
    "    \n",
    "    # Layer 7 Inception 4a\n",
    "    layer_7 = inception_module(layer_6, inception_keys['4a'])\n",
    "    \n",
    "    # Softmax 1\n",
    "    layer_7_1 = AveragePooling2D(pool_size=(3,3),strides=(3,3))(layer_7)\n",
    "    \n",
    "    layer_7_2 = Conv2D(filters=128, kernel_size=(1, 1), padding='same', activation='relu')(layer_7_1)\n",
    "    \n",
    "    layer_7_3 = Flatten()(layer_7_2)\n",
    "    \n",
    "    layer_7_4 = Dense(units=1024, activation='relu')(layer_7_3)\n",
    "    \n",
    "    layer_7_5 = Dropout(rate=0.7)(layer_7_4)\n",
    "    \n",
    "    layer_7_6 = Dense(units=10)(layer_7_5)\n",
    "    \n",
    "    softmax_1 = Activation(activation='softmax')(layer_7_6)\n",
    "    \n",
    "    # Layer 8 Inception 4b\n",
    "    layer_8 = inception_module(layer_7, inception_keys['4b'])\n",
    "    \n",
    "    # Layer 9 Inception 4c\n",
    "    layer_9 = inception_module(layer_8, inception_keys['4c'])\n",
    "    \n",
    "    # Layer 10 Inception 4d\n",
    "    layer_10 = inception_module(layer_9, inception_keys['4d'])\n",
    "    \n",
    "    # Softmax 2\n",
    "    layer_10_1 = AveragePooling2D(pool_size=(3,3),strides=(3,3))(layer_10)\n",
    "    \n",
    "    layer_10_2 = Conv2D(filters=128, kernel_size=(1, 1), padding='same', activation='relu')(layer_10_1)\n",
    "    \n",
    "    layer_10_3 = Flatten()(layer_10_2)\n",
    "    \n",
    "    layer_10_4 = Dense(units=1024, activation='relu')(layer_10_3)\n",
    "    \n",
    "    layer_10_5 = Dropout(rate=0.7)(layer_10_4)\n",
    "    \n",
    "    layer_10_6 = Dense(units=10)(layer_10_5)\n",
    "    \n",
    "    softmax_2 = Activation(activation='softmax')(layer_10_6)\n",
    "    \n",
    "    # Layer 11 Inception 4e\n",
    "    layer_11 = inception_module(layer_10, inception_keys['4e'])\n",
    "    \n",
    "    # Layer 12 Max Pool\n",
    "    layer_12 = MaxPool2D(pool_size=(3, 3), strides=(2, 2), padding='same')(layer_11)\n",
    "    \n",
    "    # Layer 13 Inception 5a\n",
    "    layer_13 = inception_module(layer_12, inception_keys['5a'])\n",
    "    \n",
    "    # Layer 14 Inception 5b\n",
    "    layer_14 = inception_module(layer_13, inception_keys['5b'])\n",
    "    \n",
    "    # Softmax 3\n",
    "    \n",
    "    layer_15 = AveragePooling2D(pool_size = (2, 2), strides=(1, 1))(layer_14)\n",
    "    \n",
    "    layer_16 = Flatten()(layer_15)\n",
    "    \n",
    "    layer_17 = Dropout(rate=0.4)(layer_16)\n",
    "    \n",
    "    layer_18 = Dense(units=10)(layer_17)\n",
    "    \n",
    "    softmax_3 = Activation(activation='softmax')(layer_18)\n",
    "    \n",
    "    model = Model(inputs, outputs=[softmax_1, softmax_2, softmax_3])\n",
    "    \n",
    "    model.compile(optimizer = 'adam', loss = 'categorical_crossentropy', metrics = ['accuracy'])\n",
    "    \n",
    "    return model"
   ]
  },
  {
   "cell_type": "code",
   "execution_count": 23,
   "metadata": {},
   "outputs": [
    {
     "name": "stdout",
     "output_type": "stream",
     "text": [
      "__________________________________________________________________________________________________\n",
      "Layer (type)                    Output Shape         Param #     Connected to                     \n",
      "==================================================================================================\n",
      "input_2 (InputLayer)            (None, 32, 32, 3)    0                                            \n",
      "__________________________________________________________________________________________________\n",
      "conv2d_59 (Conv2D)              (None, 32, 32, 64)   9472        input_2[0][0]                    \n",
      "__________________________________________________________________________________________________\n",
      "max_pooling2d_13 (MaxPooling2D) (None, 16, 16, 64)   0           conv2d_59[0][0]                  \n",
      "__________________________________________________________________________________________________\n",
      "conv2d_60 (Conv2D)              (None, 16, 16, 64)   4160        max_pooling2d_13[0][0]           \n",
      "__________________________________________________________________________________________________\n",
      "conv2d_61 (Conv2D)              (None, 16, 16, 192)  110784      conv2d_60[0][0]                  \n",
      "__________________________________________________________________________________________________\n",
      "max_pooling2d_14 (MaxPooling2D) (None, 8, 8, 192)    0           conv2d_61[0][0]                  \n",
      "__________________________________________________________________________________________________\n",
      "conv2d_63 (Conv2D)              (None, 8, 8, 96)     18528       max_pooling2d_14[0][0]           \n",
      "__________________________________________________________________________________________________\n",
      "conv2d_65 (Conv2D)              (None, 8, 8, 16)     3088        max_pooling2d_14[0][0]           \n",
      "__________________________________________________________________________________________________\n",
      "max_pooling2d_15 (MaxPooling2D) (None, 8, 8, 192)    0           max_pooling2d_14[0][0]           \n",
      "__________________________________________________________________________________________________\n",
      "conv2d_62 (Conv2D)              (None, 8, 8, 64)     12352       max_pooling2d_14[0][0]           \n",
      "__________________________________________________________________________________________________\n",
      "conv2d_64 (Conv2D)              (None, 8, 8, 128)    110720      conv2d_63[0][0]                  \n",
      "__________________________________________________________________________________________________\n",
      "conv2d_66 (Conv2D)              (None, 8, 8, 32)     12832       conv2d_65[0][0]                  \n",
      "__________________________________________________________________________________________________\n",
      "conv2d_67 (Conv2D)              (None, 8, 8, 32)     6176        max_pooling2d_15[0][0]           \n",
      "__________________________________________________________________________________________________\n",
      "concatenate_9 (Concatenate)     (None, 8, 8, 256)    0           conv2d_62[0][0]                  \n",
      "                                                                 conv2d_64[0][0]                  \n",
      "                                                                 conv2d_66[0][0]                  \n",
      "                                                                 conv2d_67[0][0]                  \n",
      "__________________________________________________________________________________________________\n",
      "conv2d_69 (Conv2D)              (None, 8, 8, 128)    32896       concatenate_9[0][0]              \n",
      "__________________________________________________________________________________________________\n",
      "conv2d_71 (Conv2D)              (None, 8, 8, 32)     8224        concatenate_9[0][0]              \n",
      "__________________________________________________________________________________________________\n",
      "max_pooling2d_16 (MaxPooling2D) (None, 8, 8, 256)    0           concatenate_9[0][0]              \n",
      "__________________________________________________________________________________________________\n",
      "conv2d_68 (Conv2D)              (None, 8, 8, 128)    32896       concatenate_9[0][0]              \n",
      "__________________________________________________________________________________________________\n",
      "conv2d_70 (Conv2D)              (None, 8, 8, 192)    221376      conv2d_69[0][0]                  \n",
      "__________________________________________________________________________________________________\n",
      "conv2d_72 (Conv2D)              (None, 8, 8, 96)     76896       conv2d_71[0][0]                  \n",
      "__________________________________________________________________________________________________\n",
      "conv2d_73 (Conv2D)              (None, 8, 8, 64)     16448       max_pooling2d_16[0][0]           \n",
      "__________________________________________________________________________________________________\n",
      "concatenate_10 (Concatenate)    (None, 8, 8, 480)    0           conv2d_68[0][0]                  \n",
      "                                                                 conv2d_70[0][0]                  \n",
      "                                                                 conv2d_72[0][0]                  \n",
      "                                                                 conv2d_73[0][0]                  \n",
      "__________________________________________________________________________________________________\n",
      "max_pooling2d_17 (MaxPooling2D) (None, 4, 4, 480)    0           concatenate_10[0][0]             \n",
      "__________________________________________________________________________________________________\n",
      "conv2d_75 (Conv2D)              (None, 4, 4, 96)     46176       max_pooling2d_17[0][0]           \n",
      "__________________________________________________________________________________________________\n",
      "conv2d_77 (Conv2D)              (None, 4, 4, 16)     7696        max_pooling2d_17[0][0]           \n",
      "__________________________________________________________________________________________________\n",
      "max_pooling2d_18 (MaxPooling2D) (None, 4, 4, 480)    0           max_pooling2d_17[0][0]           \n",
      "__________________________________________________________________________________________________\n",
      "conv2d_74 (Conv2D)              (None, 4, 4, 192)    92352       max_pooling2d_17[0][0]           \n",
      "__________________________________________________________________________________________________\n",
      "conv2d_76 (Conv2D)              (None, 4, 4, 208)    179920      conv2d_75[0][0]                  \n",
      "__________________________________________________________________________________________________\n",
      "conv2d_78 (Conv2D)              (None, 4, 4, 48)     19248       conv2d_77[0][0]                  \n",
      "__________________________________________________________________________________________________\n",
      "conv2d_79 (Conv2D)              (None, 4, 4, 64)     30784       max_pooling2d_18[0][0]           \n",
      "__________________________________________________________________________________________________\n",
      "concatenate_11 (Concatenate)    (None, 4, 4, 512)    0           conv2d_74[0][0]                  \n",
      "                                                                 conv2d_76[0][0]                  \n",
      "                                                                 conv2d_78[0][0]                  \n",
      "                                                                 conv2d_79[0][0]                  \n",
      "__________________________________________________________________________________________________\n",
      "conv2d_82 (Conv2D)              (None, 4, 4, 112)    57456       concatenate_11[0][0]             \n",
      "__________________________________________________________________________________________________\n",
      "conv2d_84 (Conv2D)              (None, 4, 4, 24)     12312       concatenate_11[0][0]             \n",
      "__________________________________________________________________________________________________\n",
      "max_pooling2d_19 (MaxPooling2D) (None, 4, 4, 512)    0           concatenate_11[0][0]             \n",
      "__________________________________________________________________________________________________\n",
      "conv2d_81 (Conv2D)              (None, 4, 4, 160)    82080       concatenate_11[0][0]             \n",
      "__________________________________________________________________________________________________\n",
      "conv2d_83 (Conv2D)              (None, 4, 4, 224)    226016      conv2d_82[0][0]                  \n",
      "__________________________________________________________________________________________________\n",
      "conv2d_85 (Conv2D)              (None, 4, 4, 64)     38464       conv2d_84[0][0]                  \n",
      "__________________________________________________________________________________________________\n",
      "conv2d_86 (Conv2D)              (None, 4, 4, 64)     32832       max_pooling2d_19[0][0]           \n",
      "__________________________________________________________________________________________________\n",
      "concatenate_12 (Concatenate)    (None, 4, 4, 512)    0           conv2d_81[0][0]                  \n",
      "                                                                 conv2d_83[0][0]                  \n",
      "                                                                 conv2d_85[0][0]                  \n",
      "                                                                 conv2d_86[0][0]                  \n",
      "__________________________________________________________________________________________________\n",
      "conv2d_88 (Conv2D)              (None, 4, 4, 128)    65664       concatenate_12[0][0]             \n",
      "__________________________________________________________________________________________________\n",
      "conv2d_90 (Conv2D)              (None, 4, 4, 24)     12312       concatenate_12[0][0]             \n",
      "__________________________________________________________________________________________________\n",
      "max_pooling2d_20 (MaxPooling2D) (None, 4, 4, 512)    0           concatenate_12[0][0]             \n",
      "__________________________________________________________________________________________________\n",
      "conv2d_87 (Conv2D)              (None, 4, 4, 128)    65664       concatenate_12[0][0]             \n",
      "__________________________________________________________________________________________________\n",
      "conv2d_89 (Conv2D)              (None, 4, 4, 256)    295168      conv2d_88[0][0]                  \n",
      "__________________________________________________________________________________________________\n",
      "conv2d_91 (Conv2D)              (None, 4, 4, 64)     38464       conv2d_90[0][0]                  \n",
      "__________________________________________________________________________________________________\n",
      "conv2d_92 (Conv2D)              (None, 4, 4, 64)     32832       max_pooling2d_20[0][0]           \n",
      "__________________________________________________________________________________________________\n",
      "concatenate_13 (Concatenate)    (None, 4, 4, 512)    0           conv2d_87[0][0]                  \n",
      "                                                                 conv2d_89[0][0]                  \n",
      "                                                                 conv2d_91[0][0]                  \n",
      "                                                                 conv2d_92[0][0]                  \n",
      "__________________________________________________________________________________________________\n",
      "conv2d_94 (Conv2D)              (None, 4, 4, 144)    73872       concatenate_13[0][0]             \n",
      "__________________________________________________________________________________________________\n",
      "conv2d_96 (Conv2D)              (None, 4, 4, 32)     16416       concatenate_13[0][0]             \n",
      "__________________________________________________________________________________________________\n",
      "max_pooling2d_21 (MaxPooling2D) (None, 4, 4, 512)    0           concatenate_13[0][0]             \n",
      "__________________________________________________________________________________________________\n",
      "conv2d_93 (Conv2D)              (None, 4, 4, 112)    57456       concatenate_13[0][0]             \n",
      "__________________________________________________________________________________________________\n",
      "conv2d_95 (Conv2D)              (None, 4, 4, 288)    373536      conv2d_94[0][0]                  \n",
      "__________________________________________________________________________________________________\n",
      "conv2d_97 (Conv2D)              (None, 4, 4, 64)     51264       conv2d_96[0][0]                  \n",
      "__________________________________________________________________________________________________\n",
      "conv2d_98 (Conv2D)              (None, 4, 4, 64)     32832       max_pooling2d_21[0][0]           \n",
      "__________________________________________________________________________________________________\n",
      "concatenate_14 (Concatenate)    (None, 4, 4, 528)    0           conv2d_93[0][0]                  \n",
      "                                                                 conv2d_95[0][0]                  \n",
      "                                                                 conv2d_97[0][0]                  \n",
      "                                                                 conv2d_98[0][0]                  \n",
      "__________________________________________________________________________________________________\n",
      "conv2d_101 (Conv2D)             (None, 4, 4, 160)    84640       concatenate_14[0][0]             \n",
      "__________________________________________________________________________________________________\n",
      "conv2d_103 (Conv2D)             (None, 4, 4, 32)     16928       concatenate_14[0][0]             \n",
      "__________________________________________________________________________________________________\n",
      "max_pooling2d_22 (MaxPooling2D) (None, 4, 4, 528)    0           concatenate_14[0][0]             \n",
      "__________________________________________________________________________________________________\n",
      "conv2d_100 (Conv2D)             (None, 4, 4, 256)    135424      concatenate_14[0][0]             \n",
      "__________________________________________________________________________________________________\n",
      "conv2d_102 (Conv2D)             (None, 4, 4, 320)    461120      conv2d_101[0][0]                 \n",
      "__________________________________________________________________________________________________\n",
      "conv2d_104 (Conv2D)             (None, 4, 4, 128)    102528      conv2d_103[0][0]                 \n",
      "__________________________________________________________________________________________________\n",
      "conv2d_105 (Conv2D)             (None, 4, 4, 128)    67712       max_pooling2d_22[0][0]           \n",
      "__________________________________________________________________________________________________\n",
      "concatenate_15 (Concatenate)    (None, 4, 4, 832)    0           conv2d_100[0][0]                 \n",
      "                                                                 conv2d_102[0][0]                 \n",
      "                                                                 conv2d_104[0][0]                 \n",
      "                                                                 conv2d_105[0][0]                 \n",
      "__________________________________________________________________________________________________\n",
      "max_pooling2d_23 (MaxPooling2D) (None, 2, 2, 832)    0           concatenate_15[0][0]             \n",
      "__________________________________________________________________________________________________\n",
      "conv2d_107 (Conv2D)             (None, 2, 2, 160)    133280      max_pooling2d_23[0][0]           \n",
      "__________________________________________________________________________________________________\n",
      "conv2d_109 (Conv2D)             (None, 2, 2, 32)     26656       max_pooling2d_23[0][0]           \n",
      "__________________________________________________________________________________________________\n",
      "max_pooling2d_24 (MaxPooling2D) (None, 2, 2, 832)    0           max_pooling2d_23[0][0]           \n",
      "__________________________________________________________________________________________________\n",
      "conv2d_106 (Conv2D)             (None, 2, 2, 256)    213248      max_pooling2d_23[0][0]           \n",
      "__________________________________________________________________________________________________\n",
      "conv2d_108 (Conv2D)             (None, 2, 2, 320)    461120      conv2d_107[0][0]                 \n",
      "__________________________________________________________________________________________________\n",
      "conv2d_110 (Conv2D)             (None, 2, 2, 128)    102528      conv2d_109[0][0]                 \n",
      "__________________________________________________________________________________________________\n",
      "conv2d_111 (Conv2D)             (None, 2, 2, 128)    106624      max_pooling2d_24[0][0]           \n",
      "__________________________________________________________________________________________________\n",
      "concatenate_16 (Concatenate)    (None, 2, 2, 832)    0           conv2d_106[0][0]                 \n",
      "                                                                 conv2d_108[0][0]                 \n",
      "                                                                 conv2d_110[0][0]                 \n",
      "                                                                 conv2d_111[0][0]                 \n",
      "__________________________________________________________________________________________________\n",
      "conv2d_113 (Conv2D)             (None, 2, 2, 192)    159936      concatenate_16[0][0]             \n",
      "__________________________________________________________________________________________________\n",
      "conv2d_115 (Conv2D)             (None, 2, 2, 48)     39984       concatenate_16[0][0]             \n",
      "__________________________________________________________________________________________________\n",
      "max_pooling2d_25 (MaxPooling2D) (None, 2, 2, 832)    0           concatenate_16[0][0]             \n",
      "__________________________________________________________________________________________________\n",
      "average_pooling2d_3 (AveragePoo (None, 1, 1, 512)    0           concatenate_11[0][0]             \n",
      "__________________________________________________________________________________________________\n",
      "average_pooling2d_4 (AveragePoo (None, 1, 1, 528)    0           concatenate_14[0][0]             \n",
      "__________________________________________________________________________________________________\n",
      "conv2d_112 (Conv2D)             (None, 2, 2, 384)    319872      concatenate_16[0][0]             \n",
      "__________________________________________________________________________________________________\n",
      "conv2d_114 (Conv2D)             (None, 2, 2, 384)    663936      conv2d_113[0][0]                 \n",
      "__________________________________________________________________________________________________\n",
      "conv2d_116 (Conv2D)             (None, 2, 2, 128)    153728      conv2d_115[0][0]                 \n",
      "__________________________________________________________________________________________________\n",
      "conv2d_117 (Conv2D)             (None, 2, 2, 128)    106624      max_pooling2d_25[0][0]           \n",
      "__________________________________________________________________________________________________\n",
      "conv2d_80 (Conv2D)              (None, 1, 1, 128)    65664       average_pooling2d_3[0][0]        \n",
      "__________________________________________________________________________________________________\n",
      "conv2d_99 (Conv2D)              (None, 1, 1, 128)    67712       average_pooling2d_4[0][0]        \n",
      "__________________________________________________________________________________________________\n",
      "concatenate_17 (Concatenate)    (None, 2, 2, 1024)   0           conv2d_112[0][0]                 \n",
      "                                                                 conv2d_114[0][0]                 \n",
      "                                                                 conv2d_116[0][0]                 \n",
      "                                                                 conv2d_117[0][0]                 \n",
      "__________________________________________________________________________________________________\n",
      "flatten_3 (Flatten)             (None, 128)          0           conv2d_80[0][0]                  \n",
      "__________________________________________________________________________________________________\n",
      "flatten_4 (Flatten)             (None, 128)          0           conv2d_99[0][0]                  \n",
      "__________________________________________________________________________________________________\n",
      "average_pooling2d_5 (AveragePoo (None, 1, 1, 1024)   0           concatenate_17[0][0]             \n",
      "__________________________________________________________________________________________________\n",
      "dense_5 (Dense)                 (None, 1024)         132096      flatten_3[0][0]                  \n",
      "__________________________________________________________________________________________________\n",
      "dense_7 (Dense)                 (None, 1024)         132096      flatten_4[0][0]                  \n",
      "__________________________________________________________________________________________________\n",
      "flatten_5 (Flatten)             (None, 1024)         0           average_pooling2d_5[0][0]        \n",
      "__________________________________________________________________________________________________\n",
      "dropout_3 (Dropout)             (None, 1024)         0           dense_5[0][0]                    \n",
      "__________________________________________________________________________________________________\n",
      "dropout_4 (Dropout)             (None, 1024)         0           dense_7[0][0]                    \n",
      "__________________________________________________________________________________________________\n",
      "dropout_5 (Dropout)             (None, 1024)         0           flatten_5[0][0]                  \n",
      "__________________________________________________________________________________________________\n",
      "dense_6 (Dense)                 (None, 10)           10250       dropout_3[0][0]                  \n",
      "__________________________________________________________________________________________________\n",
      "dense_8 (Dense)                 (None, 10)           10250       dropout_4[0][0]                  \n",
      "__________________________________________________________________________________________________\n",
      "dense_9 (Dense)                 (None, 10)           10250       dropout_5[0][0]                  \n",
      "__________________________________________________________________________________________________\n",
      "activation_3 (Activation)       (None, 10)           0           dense_6[0][0]                    \n",
      "__________________________________________________________________________________________________\n",
      "activation_4 (Activation)       (None, 10)           0           dense_8[0][0]                    \n",
      "__________________________________________________________________________________________________\n",
      "activation_5 (Activation)       (None, 10)           0           dense_9[0][0]                    \n",
      "==================================================================================================\n",
      "Total params: 6,401,870\n",
      "Trainable params: 6,401,870\n",
      "Non-trainable params: 0\n",
      "__________________________________________________________________________________________________\n"
     ]
    }
   ],
   "source": [
    "model = create_model()\n",
    "model.summary()"
   ]
  },
  {
   "cell_type": "markdown",
   "metadata": {},
   "source": [
    "## Training"
   ]
  },
  {
   "cell_type": "code",
   "execution_count": null,
   "metadata": {
    "scrolled": true
   },
   "outputs": [],
   "source": []
  },
  {
   "cell_type": "code",
   "execution_count": 24,
   "metadata": {},
   "outputs": [
    {
     "name": "stdout",
     "output_type": "stream",
     "text": [
      "Train on 40000 samples, validate on 10000 samples\n",
      "Epoch 1/10\n",
      "40000/40000 [==============================] - 322s 8ms/step - loss: 6.9140 - activation_3_loss: 2.3027 - activation_4_loss: 2.3041 - activation_5_loss: 2.3073 - activation_3_acc: 0.1046 - activation_4_acc: 0.1017 - activation_5_acc: 0.0993 - val_loss: 6.9081 - val_activation_3_loss: 2.3027 - val_activation_4_loss: 2.3027 - val_activation_5_loss: 2.3027 - val_activation_3_acc: 0.1022 - val_activation_4_acc: 0.1025 - val_activation_5_acc: 0.1025\n",
      "Epoch 2/10\n",
      "40000/40000 [==============================] - 317s 8ms/step - loss: 6.9094 - activation_3_loss: 2.3034 - activation_4_loss: 2.3032 - activation_5_loss: 2.3028 - activation_3_acc: 0.0970 - activation_4_acc: 0.0986 - activation_5_acc: 0.0965 - val_loss: 6.9083 - val_activation_3_loss: 2.3027 - val_activation_4_loss: 2.3028 - val_activation_5_loss: 2.3028 - val_activation_3_acc: 0.1014 - val_activation_4_acc: 0.1014 - val_activation_5_acc: 0.0952\n",
      "Epoch 3/10\n",
      "40000/40000 [==============================] - 314s 8ms/step - loss: 6.9089 - activation_3_loss: 2.3031 - activation_4_loss: 2.3030 - activation_5_loss: 2.3028 - activation_3_acc: 0.0990 - activation_4_acc: 0.0964 - activation_5_acc: 0.0991 - val_loss: 6.9087 - val_activation_3_loss: 2.3028 - val_activation_4_loss: 2.3030 - val_activation_5_loss: 2.3029 - val_activation_3_acc: 0.0952 - val_activation_4_acc: 0.0952 - val_activation_5_acc: 0.0952\n",
      "Epoch 4/10\n",
      "40000/40000 [==============================] - 316s 8ms/step - loss: 6.9084 - activation_3_loss: 2.3028 - activation_4_loss: 2.3028 - activation_5_loss: 2.3028 - activation_3_acc: 0.0987 - activation_4_acc: 0.1000 - activation_5_acc: 0.0984 - val_loss: 6.9088 - val_activation_3_loss: 2.3030 - val_activation_4_loss: 2.3029 - val_activation_5_loss: 2.3029 - val_activation_3_acc: 0.0952 - val_activation_4_acc: 0.0952 - val_activation_5_acc: 0.0952\n",
      "Epoch 5/10\n",
      " 8896/40000 [=====>........................] - ETA: 3:55 - loss: 6.9085 - activation_3_loss: 2.3027 - activation_4_loss: 2.3030 - activation_5_loss: 2.3028 - activation_3_acc: 0.0972 - activation_4_acc: 0.1026 - activation_5_acc: 0.1008"
     ]
    },
    {
     "ename": "KeyboardInterrupt",
     "evalue": "",
     "output_type": "error",
     "traceback": [
      "\u001b[0;31m---------------------------------------------------------------------------\u001b[0m",
      "\u001b[0;31mKeyboardInterrupt\u001b[0m                         Traceback (most recent call last)",
      "\u001b[0;32m<ipython-input-24-6de4637864c9>\u001b[0m in \u001b[0;36m<module>\u001b[0;34m\u001b[0m\n\u001b[0;32m----> 1\u001b[0;31m \u001b[0mmodel\u001b[0m\u001b[0;34m.\u001b[0m\u001b[0mfit\u001b[0m\u001b[0;34m(\u001b[0m\u001b[0mx\u001b[0m\u001b[0;34m=\u001b[0m\u001b[0mx_train\u001b[0m\u001b[0;34m,\u001b[0m \u001b[0my\u001b[0m\u001b[0;34m=\u001b[0m\u001b[0;34m[\u001b[0m\u001b[0my_train\u001b[0m\u001b[0;34m,\u001b[0m \u001b[0my_train\u001b[0m\u001b[0;34m,\u001b[0m \u001b[0my_train\u001b[0m\u001b[0;34m]\u001b[0m\u001b[0;34m,\u001b[0m \u001b[0mepochs\u001b[0m\u001b[0;34m=\u001b[0m\u001b[0;36m10\u001b[0m\u001b[0;34m,\u001b[0m \u001b[0mvalidation_split\u001b[0m\u001b[0;34m=\u001b[0m\u001b[0;36m0.2\u001b[0m\u001b[0;34m,\u001b[0m \u001b[0mshuffle\u001b[0m\u001b[0;34m=\u001b[0m\u001b[0;32mTrue\u001b[0m\u001b[0;34m)\u001b[0m\u001b[0;34m\u001b[0m\u001b[0;34m\u001b[0m\u001b[0m\n\u001b[0m",
      "\u001b[0;32m~/.conda/envs/smartcar/lib/python3.6/site-packages/tensorflow/python/keras/engine/training.py\u001b[0m in \u001b[0;36mfit\u001b[0;34m(self, x, y, batch_size, epochs, verbose, callbacks, validation_split, validation_data, shuffle, class_weight, sample_weight, initial_epoch, steps_per_epoch, validation_steps, max_queue_size, workers, use_multiprocessing, **kwargs)\u001b[0m\n\u001b[1;32m   1637\u001b[0m           \u001b[0minitial_epoch\u001b[0m\u001b[0;34m=\u001b[0m\u001b[0minitial_epoch\u001b[0m\u001b[0;34m,\u001b[0m\u001b[0;34m\u001b[0m\u001b[0;34m\u001b[0m\u001b[0m\n\u001b[1;32m   1638\u001b[0m           \u001b[0msteps_per_epoch\u001b[0m\u001b[0;34m=\u001b[0m\u001b[0msteps_per_epoch\u001b[0m\u001b[0;34m,\u001b[0m\u001b[0;34m\u001b[0m\u001b[0;34m\u001b[0m\u001b[0m\n\u001b[0;32m-> 1639\u001b[0;31m           validation_steps=validation_steps)\n\u001b[0m\u001b[1;32m   1640\u001b[0m \u001b[0;34m\u001b[0m\u001b[0m\n\u001b[1;32m   1641\u001b[0m   def evaluate(self,\n",
      "\u001b[0;32m~/.conda/envs/smartcar/lib/python3.6/site-packages/tensorflow/python/keras/engine/training_arrays.py\u001b[0m in \u001b[0;36mfit_loop\u001b[0;34m(model, inputs, targets, sample_weights, batch_size, epochs, verbose, callbacks, val_inputs, val_targets, val_sample_weights, shuffle, initial_epoch, steps_per_epoch, validation_steps)\u001b[0m\n\u001b[1;32m    213\u001b[0m           \u001b[0mins_batch\u001b[0m\u001b[0;34m[\u001b[0m\u001b[0mi\u001b[0m\u001b[0;34m]\u001b[0m \u001b[0;34m=\u001b[0m \u001b[0mins_batch\u001b[0m\u001b[0;34m[\u001b[0m\u001b[0mi\u001b[0m\u001b[0;34m]\u001b[0m\u001b[0;34m.\u001b[0m\u001b[0mtoarray\u001b[0m\u001b[0;34m(\u001b[0m\u001b[0;34m)\u001b[0m\u001b[0;34m\u001b[0m\u001b[0;34m\u001b[0m\u001b[0m\n\u001b[1;32m    214\u001b[0m \u001b[0;34m\u001b[0m\u001b[0m\n\u001b[0;32m--> 215\u001b[0;31m         \u001b[0mouts\u001b[0m \u001b[0;34m=\u001b[0m \u001b[0mf\u001b[0m\u001b[0;34m(\u001b[0m\u001b[0mins_batch\u001b[0m\u001b[0;34m)\u001b[0m\u001b[0;34m\u001b[0m\u001b[0;34m\u001b[0m\u001b[0m\n\u001b[0m\u001b[1;32m    216\u001b[0m         \u001b[0;32mif\u001b[0m \u001b[0;32mnot\u001b[0m \u001b[0misinstance\u001b[0m\u001b[0;34m(\u001b[0m\u001b[0mouts\u001b[0m\u001b[0;34m,\u001b[0m \u001b[0mlist\u001b[0m\u001b[0;34m)\u001b[0m\u001b[0;34m:\u001b[0m\u001b[0;34m\u001b[0m\u001b[0;34m\u001b[0m\u001b[0m\n\u001b[1;32m    217\u001b[0m           \u001b[0mouts\u001b[0m \u001b[0;34m=\u001b[0m \u001b[0;34m[\u001b[0m\u001b[0mouts\u001b[0m\u001b[0;34m]\u001b[0m\u001b[0;34m\u001b[0m\u001b[0;34m\u001b[0m\u001b[0m\n",
      "\u001b[0;32m~/.conda/envs/smartcar/lib/python3.6/site-packages/tensorflow/python/keras/backend.py\u001b[0m in \u001b[0;36m__call__\u001b[0;34m(self, inputs)\u001b[0m\n\u001b[1;32m   2984\u001b[0m \u001b[0;34m\u001b[0m\u001b[0m\n\u001b[1;32m   2985\u001b[0m     fetched = self._callable_fn(*array_vals,\n\u001b[0;32m-> 2986\u001b[0;31m                                 run_metadata=self.run_metadata)\n\u001b[0m\u001b[1;32m   2987\u001b[0m     \u001b[0mself\u001b[0m\u001b[0;34m.\u001b[0m\u001b[0m_call_fetch_callbacks\u001b[0m\u001b[0;34m(\u001b[0m\u001b[0mfetched\u001b[0m\u001b[0;34m[\u001b[0m\u001b[0;34m-\u001b[0m\u001b[0mlen\u001b[0m\u001b[0;34m(\u001b[0m\u001b[0mself\u001b[0m\u001b[0;34m.\u001b[0m\u001b[0m_fetches\u001b[0m\u001b[0;34m)\u001b[0m\u001b[0;34m:\u001b[0m\u001b[0;34m]\u001b[0m\u001b[0;34m)\u001b[0m\u001b[0;34m\u001b[0m\u001b[0;34m\u001b[0m\u001b[0m\n\u001b[1;32m   2988\u001b[0m     \u001b[0;32mreturn\u001b[0m \u001b[0mfetched\u001b[0m\u001b[0;34m[\u001b[0m\u001b[0;34m:\u001b[0m\u001b[0mlen\u001b[0m\u001b[0;34m(\u001b[0m\u001b[0mself\u001b[0m\u001b[0;34m.\u001b[0m\u001b[0moutputs\u001b[0m\u001b[0;34m)\u001b[0m\u001b[0;34m]\u001b[0m\u001b[0;34m\u001b[0m\u001b[0;34m\u001b[0m\u001b[0m\n",
      "\u001b[0;32m~/.conda/envs/smartcar/lib/python3.6/site-packages/tensorflow/python/client/session.py\u001b[0m in \u001b[0;36m__call__\u001b[0;34m(self, *args, **kwargs)\u001b[0m\n\u001b[1;32m   1437\u001b[0m           ret = tf_session.TF_SessionRunCallable(\n\u001b[1;32m   1438\u001b[0m               \u001b[0mself\u001b[0m\u001b[0;34m.\u001b[0m\u001b[0m_session\u001b[0m\u001b[0;34m.\u001b[0m\u001b[0m_session\u001b[0m\u001b[0;34m,\u001b[0m \u001b[0mself\u001b[0m\u001b[0;34m.\u001b[0m\u001b[0m_handle\u001b[0m\u001b[0;34m,\u001b[0m \u001b[0margs\u001b[0m\u001b[0;34m,\u001b[0m \u001b[0mstatus\u001b[0m\u001b[0;34m,\u001b[0m\u001b[0;34m\u001b[0m\u001b[0;34m\u001b[0m\u001b[0m\n\u001b[0;32m-> 1439\u001b[0;31m               run_metadata_ptr)\n\u001b[0m\u001b[1;32m   1440\u001b[0m         \u001b[0;32mif\u001b[0m \u001b[0mrun_metadata\u001b[0m\u001b[0;34m:\u001b[0m\u001b[0;34m\u001b[0m\u001b[0;34m\u001b[0m\u001b[0m\n\u001b[1;32m   1441\u001b[0m           \u001b[0mproto_data\u001b[0m \u001b[0;34m=\u001b[0m \u001b[0mtf_session\u001b[0m\u001b[0;34m.\u001b[0m\u001b[0mTF_GetBuffer\u001b[0m\u001b[0;34m(\u001b[0m\u001b[0mrun_metadata_ptr\u001b[0m\u001b[0;34m)\u001b[0m\u001b[0;34m\u001b[0m\u001b[0;34m\u001b[0m\u001b[0m\n",
      "\u001b[0;31mKeyboardInterrupt\u001b[0m: "
     ]
    }
   ],
   "source": [
    "model.fit(x=x_train, y=[y_train, y_train, y_train], epochs=10, validation_split=0.2)"
   ]
  },
  {
   "cell_type": "markdown",
   "metadata": {},
   "source": [
    "## Testing"
   ]
  },
  {
   "cell_type": "code",
   "execution_count": 25,
   "metadata": {},
   "outputs": [
    {
     "name": "stdout",
     "output_type": "stream",
     "text": [
      "10000/10000 [==============================] - 18s 2ms/step\n"
     ]
    },
    {
     "data": {
      "text/plain": [
       "[6.908085311889648,\n",
       " 2.3027060218811037,\n",
       " 2.3026976829528807,\n",
       " 2.3026815940856933,\n",
       " 0.1,\n",
       " 0.1,\n",
       " 0.1]"
      ]
     },
     "execution_count": 25,
     "metadata": {},
     "output_type": "execute_result"
    }
   ],
   "source": [
    "model.evaluate(x=x_test, y=[y_test, y_test, y_test])"
   ]
  },
  {
   "cell_type": "code",
   "execution_count": 15,
   "metadata": {},
   "outputs": [],
   "source": [
    "model.save('inception_v1_model.h5')\n",
    "history = model.history"
   ]
  },
  {
   "cell_type": "markdown",
   "metadata": {},
   "source": [
    "## Results\n",
    " \n",
    "### Training from scratch\n",
    "\n",
    "Training AlexNet, using stochastic gradient descent with a fixed learning rate of 0.01, for 50 epochs, we acheive a test accuracy of ~76.75%.\n",
    "\n",
    "In accuracy and loss plot shown below, notice the large gap between the training and testing curves. This suggests that our model is overfitting."
   ]
  },
  {
   "cell_type": "code",
   "execution_count": 23,
   "metadata": {},
   "outputs": [
    {
     "name": "stdout",
     "output_type": "stream",
     "text": [
      "val_loss\n",
      "val_activation_loss\n",
      "val_activation_1_loss\n",
      "val_activation_2_loss\n",
      "val_activation_acc\n",
      "val_activation_1_acc\n",
      "val_activation_2_acc\n",
      "loss\n",
      "activation_loss\n",
      "activation_1_loss\n",
      "activation_2_loss\n",
      "activation_acc\n",
      "activation_1_acc\n",
      "activation_2_acc\n"
     ]
    }
   ],
   "source": [
    "for i in history.history.keys():\n",
    "    print(i)"
   ]
  },
  {
   "cell_type": "code",
   "execution_count": 16,
   "metadata": {},
   "outputs": [
    {
     "data": {
      "image/png": "[encoded data removed]",
      "text/plain": [
       "<Figure size 432x288 with 1 Axes>"
      ]
     },
     "metadata": {
      "needs_background": "light"
     },
     "output_type": "display_data"
    }
   ],
   "source": [
    "# Plot training & validation accuracy values\n",
    "plt.plot(history.history['activation_acc'])\n",
    "plt.plot(history.history['activation_1_acc'])\n",
    "plt.plot(history.history['activation_2_acc'])\n",
    "plt.plot(history.history['val_activation_acc'])\n",
    "plt.plot(history.history['val_activation_1_acc'])\n",
    "plt.plot(history.history['val_activation_2_acc'])\n",
    "plt.title('Model accuracy')\n",
    "plt.ylabel('Accuracy')\n",
    "plt.xlabel('Epoch')\n",
    "plt.legend(['Train_S1', 'Train_S2', 'Train_S3', 'Test_S1', 'Test_S2', 'Test_S3'], loc='upper left')\n",
    "plt.show()"
   ]
  },
  {
   "cell_type": "code",
   "execution_count": 17,
   "metadata": {},
   "outputs": [
    {
     "data": {
      "image/png": "[encoded data removed]",
      "text/plain": [
       "<Figure size 432x288 with 1 Axes>"
      ]
     },
     "metadata": {
      "needs_background": "light"
     },
     "output_type": "display_data"
    }
   ],
   "source": [
    "# Plot training & validation loss values\n",
    "plt.plot(history.history['loss'])\n",
    "plt.plot(history.history['val_loss'])\n",
    "plt.title('Model loss')\n",
    "plt.ylabel('Loss')\n",
    "plt.xlabel('Epoch')\n",
    "plt.legend(['Train', 'Test'], loc='upper left')\n",
    "plt.show()"
   ]
  },
  {
   "cell_type": "markdown",
   "metadata": {},
   "source": [
    "### Todo\n",
    "- Expriment to stop model overfiting"
   ]
  }
 ],
 "metadata": {
  "kernelspec": {
   "display_name": "Python 3",
   "language": "python",
   "name": "python3"
  },
  "language_info": {
   "codemirror_mode": {
    "name": "ipython",
    "version": 3
   },
   "file_extension": ".py",
   "mimetype": "text/x-python",
   "name": "python",
   "nbconvert_exporter": "python",
   "pygments_lexer": "ipython3",
   "version": "3.6.7"
  }
 },
 "nbformat": 4,
 "nbformat_minor": 2
}
