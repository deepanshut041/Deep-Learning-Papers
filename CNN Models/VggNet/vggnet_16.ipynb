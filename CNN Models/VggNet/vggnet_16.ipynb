{
 "cells": [
  {
   "cell_type": "markdown",
   "metadata": {},
   "source": [
    "#  VGGNet\n",
    "VGGNet is the 1st runner-up, not the winner of the ILSVRC-2014 in the classification task. VGGNet beats the GoogLeNet and won the localization task in ILSVRC 2014\n",
    "\n",
    "### The highlights of the paper\n",
    "- The Use of 3×3 Filters instead of large-size filters (such as 11×11, 7×7).\n",
    "- Multi-Scale Training & Testing\n",
    "- Dense (Convolutionalized) Testing\n",
    "- Model Fusion"
   ]
  },
  {
   "cell_type": "markdown",
   "metadata": {},
   "source": [
    "### The architecture\n",
    "During training, the input to our ConvNets is a fixed-size 224 × 224 RGB image. The only preprocessing we do is subtracting the mean RGB value, computed on the training set, from each pixel. The image is passed through a stack of convolutional (conv.) layers. All hidden layers are equipped with the rectification (ReLU (Krizhevsky et al., 2012)) non-linearity. The width of conv. layers (the number of channels) is rather small, starting from 64 in the first layer and then increasing by a factor of 2 after each max-pooling layer, until it reaches 512. Number of layers depend on VGG-11, VGG-11 (LRN), VGG-13, VGG-16 (Conv1), VGG-16 and VGG-19 architechure.\n",
    "![orignal_architeture](./images/original_architechure.png)\n"
   ]
  },
  {
   "cell_type": "markdown",
   "metadata": {},
   "source": [
    "# VGGNet implementation on Cifar 10"
   ]
  },
  {
   "cell_type": "code",
   "execution_count": 1,
   "metadata": {},
   "outputs": [],
   "source": [
    "import numpy as np\n",
    "import pandas as pd\n",
    "import matplotlib.pyplot as plt\n",
    "import torch\n",
    "%matplotlib inline"
   ]
  },
  {
   "cell_type": "markdown",
   "metadata": {},
   "source": [
    "## Data Loading and Preprocessing"
   ]
  },
  {
   "cell_type": "markdown",
   "metadata": {},
   "source": [
    "### CIFAR10 small image classification\n",
    "Dataset of 50,000 32x32 color training images, labeled over 10 categories, and 10,000 test images.\n",
    "\n",
    "#### Returns 2 tuples:\n",
    "- **x_train, x_test**: uint8 array of RGB image data with shape (num_samples, 32, 32, 3).\n",
    "- **y_train, y_test**: uint8 array of category labels (integers in range 0-9) with shape (num_samples,)."
   ]
  },
  {
   "cell_type": "code",
   "execution_count": 2,
   "metadata": {},
   "outputs": [
    {
     "name": "stdout",
     "output_type": "stream",
     "text": [
      "Traning on Gpu\n"
     ]
    }
   ],
   "source": [
    "is_gpu_available = torch.cuda.is_available()\n",
    "if is_gpu_available:\n",
    "    print(\"Traning on Gpu\")\n",
    "else:\n",
    "    print(\"Traning on Cpu\")"
   ]
  },
  {
   "cell_type": "code",
   "execution_count": 3,
   "metadata": {},
   "outputs": [
    {
     "name": "stdout",
     "output_type": "stream",
     "text": [
      "Files already downloaded and verified\n",
      "Files already downloaded and verified\n",
      "Number of training examples = 50000\n",
      "Number of testing examples = 10000\n",
      "Image data shape = torch.Size([3, 32, 32])\n",
      "Number of classes = 10\n"
     ]
    }
   ],
   "source": [
    "from torchvision.datasets import CIFAR10\n",
    "from torchvision.transforms import Compose, RandomHorizontalFlip, ToTensor, RandomRotation, Normalize\n",
    "\n",
    "transform = Compose([\n",
    "    RandomHorizontalFlip(),\n",
    "    RandomRotation(10),\n",
    "    ToTensor(),\n",
    "    Normalize((0.5, 0.5, 0.5), (0.5, 0.5, 0.5))\n",
    "])\n",
    "\n",
    "train_data = CIFAR10('data', transform=transform, train=True, download=True)\n",
    "test_data = CIFAR10('data', transform=transform, train=False, download=True)\n",
    "\n",
    "# specify the image classes\n",
    "classes = ['airplane', 'automobile', 'bird', 'cat', 'deer',\n",
    "           'dog', 'frog', 'horse', 'ship', 'truck']\n",
    "\n",
    "print(\"Number of training examples =\", len(train_data))\n",
    "print(\"Number of testing examples =\", len(test_data))\n",
    "print(\"Image data shape =\", train_data[0][0].shape)\n",
    "print(\"Number of classes =\", len(classes))"
   ]
  },
  {
   "cell_type": "code",
   "execution_count": 4,
   "metadata": {
    "scrolled": true
   },
   "outputs": [],
   "source": [
    "from torch.utils.data.sampler import SubsetRandomSampler\n",
    "from torch.utils.data.dataloader import DataLoader\n",
    "\n",
    "# obtain training indices that will be used for validation\n",
    "num_train = len(train_data)\n",
    "indices = list(range(num_train))\n",
    "np.random.shuffle(indices)\n",
    "split = int(np.floor(0.2 * num_train))\n",
    "train_idx, valid_idx = indices[split:], indices[:split]\n",
    "\n",
    "# define samplers for obtaining training and validation batches\n",
    "train_sampler = SubsetRandomSampler(train_idx)\n",
    "valid_sampler = SubsetRandomSampler(valid_idx)\n",
    "\n",
    "train_loader = DataLoader(dataset=train_data, batch_size=20, sampler=train_sampler)\n",
    "valid_loader = DataLoader(dataset=train_data, batch_size=20, sampler=valid_sampler)\n",
    "test_loader = DataLoader(dataset=test_data, batch_size=20)"
   ]
  },
  {
   "cell_type": "markdown",
   "metadata": {},
   "source": [
    "## Visualize a Batch of Training Data"
   ]
  },
  {
   "cell_type": "code",
   "execution_count": 5,
   "metadata": {},
   "outputs": [
    {
     "data": {
      "image/png": "[encoded data removed]",
      "text/plain": [
       "<Figure size 432x288 with 1 Axes>"
      ]
     },
     "metadata": {
      "needs_background": "light"
     },
     "output_type": "display_data"
    }
   ],
   "source": [
    "def imshow(image):\n",
    "    img = image.numpy()\n",
    "    img = img / 2 + 0.5  # unnormalize\n",
    "    plt.imshow(np.transpose(img, (1, 2, 0)))  # convert from Tensor image\n",
    "\n",
    "dataiter = iter(train_loader)\n",
    "images, labels = dataiter.next()\n",
    "imshow(images[0])"
   ]
  },
  {
   "cell_type": "markdown",
   "metadata": {},
   "source": [
    "## Model Implementation"
   ]
  },
  {
   "cell_type": "code",
   "execution_count": 6,
   "metadata": {},
   "outputs": [],
   "source": [
    "from torch.nn import Module, Conv2d, Linear, MaxPool2d, Dropout, Dropout2d, BatchNorm2d, BatchNorm1d\n",
    "import torch.nn.functional as F"
   ]
  },
  {
   "cell_type": "markdown",
   "metadata": {},
   "source": [
    "### Model Architecture\n",
    "The entire model consists of 14 layers in total. In addition to layers below lists what techniques are applied to build the model.\n",
    "\n",
    "![vggnet.jpg](./images/vggnet.jpg)"
   ]
  },
  {
   "cell_type": "code",
   "execution_count": 11,
   "metadata": {},
   "outputs": [],
   "source": [
    "class Net(Module):\n",
    "    def __init__(self):\n",
    "        super(Net, self).__init__()\n",
    "        \n",
    "        self.conv1 = Conv2d(3, 64, 3, padding=1)\n",
    "        self.conv1_bn = BatchNorm2d(64)\n",
    "        \n",
    "        self.conv2 = Conv2d(64, 128, 3, padding=1)\n",
    "        self.conv2_bn = BatchNorm2d(128)\n",
    "        \n",
    "        self.conv3 = Conv2d(128, 256, 3, padding=1)\n",
    "        self.conv4 = Conv2d(256, 256, 3, padding=1)\n",
    "        self.conv4_bn = BatchNorm2d(256)\n",
    "        \n",
    "        self.conv5 = Conv2d(256, 512, 3, padding=1)\n",
    "        self.conv6 = Conv2d(512, 512, 3, padding=1)\n",
    "        self.conv6_bn = BatchNorm2d(512)\n",
    "        \n",
    "        self.conv7 = Conv2d(512, 512, 3, padding=1)\n",
    "        self.conv8 = Conv2d(512, 512, 3, padding=1)\n",
    "        self.conv8_bn = BatchNorm2d(512)\n",
    "        \n",
    "        self.pool = MaxPool2d(2, stride=2)\n",
    "        \n",
    "        self.dropout_2d = Dropout2d(0.25)\n",
    "        \n",
    "        self.dropout_1d = Dropout(0.25)\n",
    "        \n",
    "        self.fc1 = Linear(512 * 1 * 1, 4096)\n",
    "        self.fc1_bn = BatchNorm1d(4096)\n",
    "        \n",
    "        self.fc2 = Linear(4096, 4096)\n",
    "        self.fc2_bn = BatchNorm1d(4096)\n",
    "        \n",
    "        self.fc3 = Linear(4096, 1000)\n",
    "        self.fc3_bn = BatchNorm1d(1000)\n",
    "        \n",
    "        self.fc4 = Linear(1000, 10)\n",
    "        \n",
    "    def forward(self, x):\n",
    "        x = self.dropout_2d(F.relu(self.conv1(x)))\n",
    "        x = self.conv1_bn(self.pool(x))\n",
    "        \n",
    "        x = self.dropout_2d(F.relu(self.conv2(x)))\n",
    "        x = self.conv2_bn(self.pool(x))\n",
    "        \n",
    "        x = self.dropout_2d(F.relu(self.conv3(x)))\n",
    "        x = self.dropout_2d(F.relu(self.conv4(x)))\n",
    "        x = self.conv4_bn(self.pool(x))\n",
    "        \n",
    "        x = self.dropout_2d(F.relu(self.conv5(x)))\n",
    "        x = self.dropout_2d(F.relu(self.conv6(x)))\n",
    "        x = self.conv6_bn(self.pool(x))\n",
    "        \n",
    "        x = self.dropout_2d(F.relu(self.conv7(x)))\n",
    "        x = self.dropout_2d(F.relu(self.conv8(x)))\n",
    "        x = self.conv8_bn(self.pool(x))\n",
    "        \n",
    "        x = x.view(-1, 1 * 1 * 512)\n",
    "        \n",
    "        x = F.relu(self.fc1(x))\n",
    "        x = self.fc1_bn(self.dropout_1d(x))\n",
    "        \n",
    "        x = F.relu(self.fc2(x))\n",
    "        x = self.fc2_bn(self.dropout_1d(x))\n",
    "        \n",
    "        x = F.relu(self.fc3(x))\n",
    "        x = self.fc3_bn(self.dropout_1d(x))\n",
    "        \n",
    "        x = self.fc4(x)\n",
    "        \n",
    "        return x\n",
    "        \n",
    "        "
   ]
  },
  {
   "cell_type": "code",
   "execution_count": 12,
   "metadata": {},
   "outputs": [
    {
     "name": "stdout",
     "output_type": "stream",
     "text": [
      "Net(\n",
      "  (conv1): Conv2d(3, 64, kernel_size=(3, 3), stride=(1, 1), padding=(1, 1))\n",
      "  (conv1_bn): BatchNorm2d(64, eps=1e-05, momentum=0.1, affine=True, track_running_stats=True)\n",
      "  (conv2): Conv2d(64, 128, kernel_size=(3, 3), stride=(1, 1), padding=(1, 1))\n",
      "  (conv2_bn): BatchNorm2d(128, eps=1e-05, momentum=0.1, affine=True, track_running_stats=True)\n",
      "  (conv3): Conv2d(128, 256, kernel_size=(3, 3), stride=(1, 1), padding=(1, 1))\n",
      "  (conv4): Conv2d(256, 256, kernel_size=(3, 3), stride=(1, 1), padding=(1, 1))\n",
      "  (conv4_bn): BatchNorm2d(256, eps=1e-05, momentum=0.1, affine=True, track_running_stats=True)\n",
      "  (conv5): Conv2d(256, 512, kernel_size=(3, 3), stride=(1, 1), padding=(1, 1))\n",
      "  (conv6): Conv2d(512, 512, kernel_size=(3, 3), stride=(1, 1), padding=(1, 1))\n",
      "  (conv6_bn): BatchNorm2d(512, eps=1e-05, momentum=0.1, affine=True, track_running_stats=True)\n",
      "  (conv7): Conv2d(512, 512, kernel_size=(3, 3), stride=(1, 1), padding=(1, 1))\n",
      "  (conv8): Conv2d(512, 512, kernel_size=(3, 3), stride=(1, 1), padding=(1, 1))\n",
      "  (conv8_bn): BatchNorm2d(512, eps=1e-05, momentum=0.1, affine=True, track_running_stats=True)\n",
      "  (pool): MaxPool2d(kernel_size=2, stride=2, padding=0, dilation=1, ceil_mode=False)\n",
      "  (dropout_2d): Dropout2d(p=0.25)\n",
      "  (dropout_1d): Dropout(p=0.25)\n",
      "  (fc1): Linear(in_features=512, out_features=4096, bias=True)\n",
      "  (fc1_bn): BatchNorm1d(4096, eps=1e-05, momentum=0.1, affine=True, track_running_stats=True)\n",
      "  (fc2): Linear(in_features=4096, out_features=4096, bias=True)\n",
      "  (fc2_bn): BatchNorm1d(4096, eps=1e-05, momentum=0.1, affine=True, track_running_stats=True)\n",
      "  (fc3): Linear(in_features=4096, out_features=1000, bias=True)\n",
      "  (fc3_bn): BatchNorm1d(1000, eps=1e-05, momentum=0.1, affine=True, track_running_stats=True)\n",
      "  (fc4): Linear(in_features=1000, out_features=10, bias=True)\n",
      ")\n"
     ]
    }
   ],
   "source": [
    "# create a complete CNN\n",
    "model = Net()\n",
    "print(model)\n",
    "\n",
    "if is_gpu_available:\n",
    "    model.cuda()"
   ]
  },
  {
   "cell_type": "code",
   "execution_count": 13,
   "metadata": {},
   "outputs": [],
   "source": [
    "from torch.nn import CrossEntropyLoss\n",
    "import torch.optim as optim\n",
    "\n",
    "# specify loss function (categorical cross-entropy)\n",
    "criterion = CrossEntropyLoss()\n",
    "\n",
    "# specify optimizer\n",
    "optimizer = optim.SGD(model.parameters(), lr=0.01)"
   ]
  },
  {
   "cell_type": "markdown",
   "metadata": {},
   "source": [
    "## Training"
   ]
  },
  {
   "cell_type": "code",
   "execution_count": null,
   "metadata": {},
   "outputs": [
    {
     "name": "stdout",
     "output_type": "stream",
     "text": [
      "Epoch: 1 \tTraining Loss: 1.517203 \tValidation Loss: 0.315081\n",
      "Validation loss decreased (inf --> 0.315081).  Saving model ...\n",
      "Epoch: 2 \tTraining Loss: 1.320906 \tValidation Loss: 0.284388\n",
      "Validation loss decreased (0.315081 --> 0.284388).  Saving model ...\n",
      "Epoch: 3 \tTraining Loss: 1.222106 \tValidation Loss: 0.256347\n",
      "Validation loss decreased (0.284388 --> 0.256347).  Saving model ...\n",
      "Epoch: 4 \tTraining Loss: 1.141128 \tValidation Loss: 0.234619\n",
      "Validation loss decreased (0.256347 --> 0.234619).  Saving model ...\n",
      "Epoch: 5 \tTraining Loss: 1.081302 \tValidation Loss: 0.224059\n",
      "Validation loss decreased (0.234619 --> 0.224059).  Saving model ...\n",
      "Epoch: 6 \tTraining Loss: 1.023276 \tValidation Loss: 0.205529\n",
      "Validation loss decreased (0.224059 --> 0.205529).  Saving model ...\n",
      "Epoch: 7 \tTraining Loss: 0.973108 \tValidation Loss: 0.195605\n",
      "Validation loss decreased (0.205529 --> 0.195605).  Saving model ...\n",
      "Epoch: 8 \tTraining Loss: 0.932711 \tValidation Loss: 0.184554\n",
      "Validation loss decreased (0.195605 --> 0.184554).  Saving model ...\n",
      "Epoch: 9 \tTraining Loss: 0.892866 \tValidation Loss: 0.181664\n",
      "Validation loss decreased (0.184554 --> 0.181664).  Saving model ...\n",
      "Epoch: 10 \tTraining Loss: 0.851917 \tValidation Loss: 0.168199\n",
      "Validation loss decreased (0.181664 --> 0.168199).  Saving model ...\n",
      "Epoch: 11 \tTraining Loss: 0.829236 \tValidation Loss: 0.165806\n",
      "Validation loss decreased (0.168199 --> 0.165806).  Saving model ...\n",
      "Epoch: 12 \tTraining Loss: 0.796447 \tValidation Loss: 0.163514\n",
      "Validation loss decreased (0.165806 --> 0.163514).  Saving model ...\n",
      "Epoch: 13 \tTraining Loss: 0.774073 \tValidation Loss: 0.152578\n",
      "Validation loss decreased (0.163514 --> 0.152578).  Saving model ...\n",
      "Epoch: 14 \tTraining Loss: 0.751104 \tValidation Loss: 0.145073\n",
      "Validation loss decreased (0.152578 --> 0.145073).  Saving model ...\n",
      "Epoch: 15 \tTraining Loss: 0.731847 \tValidation Loss: 0.143045\n",
      "Validation loss decreased (0.145073 --> 0.143045).  Saving model ...\n",
      "Epoch: 16 \tTraining Loss: 0.708428 \tValidation Loss: 0.142679\n",
      "Validation loss decreased (0.143045 --> 0.142679).  Saving model ...\n",
      "Epoch: 17 \tTraining Loss: 0.697109 \tValidation Loss: 0.137965\n",
      "Validation loss decreased (0.142679 --> 0.137965).  Saving model ...\n",
      "Epoch: 18 \tTraining Loss: 0.673789 \tValidation Loss: 0.132661\n",
      "Validation loss decreased (0.137965 --> 0.132661).  Saving model ...\n",
      "Epoch: 19 \tTraining Loss: 0.655923 \tValidation Loss: 0.129080\n",
      "Validation loss decreased (0.132661 --> 0.129080).  Saving model ...\n",
      "Epoch: 20 \tTraining Loss: 0.649141 \tValidation Loss: 0.128088\n",
      "Validation loss decreased (0.129080 --> 0.128088).  Saving model ...\n",
      "Epoch: 21 \tTraining Loss: 0.633228 \tValidation Loss: 0.125436\n",
      "Validation loss decreased (0.128088 --> 0.125436).  Saving model ...\n",
      "Epoch: 22 \tTraining Loss: 0.624278 \tValidation Loss: 0.125525\n",
      "Epoch: 23 \tTraining Loss: 0.606145 \tValidation Loss: 0.121988\n",
      "Validation loss decreased (0.125436 --> 0.121988).  Saving model ...\n",
      "Epoch: 24 \tTraining Loss: 0.591160 \tValidation Loss: 0.122204\n"
     ]
    }
   ],
   "source": [
    "# number of epochs to train the model\n",
    "n_epochs = 30\n",
    "\n",
    "valid_loss_min = np.Inf # track change in validation loss\n",
    "total_train_loss = []\n",
    "total_valid_loss = []\n",
    "\n",
    "for epoch in range(1, n_epochs+1):\n",
    "\n",
    "    # keep track of training and validation loss\n",
    "    train_loss = 0.0\n",
    "    valid_loss = 0.0\n",
    "    \n",
    "    ###################\n",
    "    # train the model #\n",
    "    ###################\n",
    "    model.train()\n",
    "    for data, target in train_loader:\n",
    "        # clear the gradients of all optimized variables\n",
    "        if is_gpu_available:\n",
    "            data, target = data.cuda(), target.cuda()\n",
    "        optimizer.zero_grad()\n",
    "        # forward pass: compute predicted outputs by passing inputs to the model\n",
    "        output = model(data)\n",
    "        # calculate the batch loss\n",
    "        loss = criterion(output, target)\n",
    "        # backward pass: compute gradient of the loss with respect to model parameters\n",
    "        loss.backward()\n",
    "        # perform a single optimization step (parameter update)\n",
    "        optimizer.step()\n",
    "        # update training loss\n",
    "        train_loss += loss.item()*data.size(0)\n",
    "        \n",
    "    ######################    \n",
    "    # validate the model #\n",
    "    ######################\n",
    "    model.eval()\n",
    "    for data, target in valid_loader:\n",
    "        # forward pass: compute predicted outputs by passing inputs to the model\n",
    "        if is_gpu_available:\n",
    "            data, target = data.cuda(), target.cuda()\n",
    "        \n",
    "        output = model(data)\n",
    "        # calculate the batch loss\n",
    "        loss = criterion(output, target)\n",
    "        # update average validation loss \n",
    "        valid_loss += loss.item()*data.size(0)\n",
    "    \n",
    "    # calculate average losses\n",
    "    train_loss = train_loss/len(train_loader.dataset)\n",
    "    valid_loss = valid_loss/len(valid_loader.dataset)\n",
    "    \n",
    "    total_train_loss.append(train_loss)\n",
    "    total_valid_loss.append(valid_loss)\n",
    "        \n",
    "    # print training/validation statistics \n",
    "    print('Epoch: {} \\tTraining Loss: {:.6f} \\tValidation Loss: {:.6f}'.format(\n",
    "        epoch, train_loss, valid_loss))\n",
    "    \n",
    "    # save model if validation loss has decreased\n",
    "    if valid_loss <= valid_loss_min:\n",
    "        print('Validation loss decreased ({:.6f} --> {:.6f}).  Saving model ...'.format(\n",
    "        valid_loss_min,\n",
    "        valid_loss))\n",
    "        torch.save(model.state_dict(), 'model_cifar.pt')\n",
    "        valid_loss_min = valid_loss"
   ]
  },
  {
   "cell_type": "markdown",
   "metadata": {},
   "source": [
    "## Testing"
   ]
  },
  {
   "cell_type": "code",
   "execution_count": null,
   "metadata": {},
   "outputs": [],
   "source": [
    "model.evaluate(x=x_test, y=y_test)"
   ]
  },
  {
   "cell_type": "code",
   "execution_count": null,
   "metadata": {},
   "outputs": [],
   "source": [
    "model.save('model.h5')\n",
    "history = model.history"
   ]
  },
  {
   "cell_type": "markdown",
   "metadata": {},
   "source": [
    "## Results\n",
    " \n",
    "### Training from scratch\n",
    "\n",
    "Training AlexNet, using stochastic gradient descent with a fixed learning rate of 0.01, for 50 epochs, we acheive a test accuracy of ~76.75%.\n",
    "\n",
    "In accuracy and loss plot shown below, notice the large gap between the training and testing curves. This suggests that our model is overfitting."
   ]
  },
  {
   "cell_type": "code",
   "execution_count": null,
   "metadata": {},
   "outputs": [],
   "source": [
    "# Plot training & validation accuracy values\n",
    "plt.plot(history.history['acc'])\n",
    "plt.plot(history.history['val_acc'])\n",
    "plt.title('Model accuracy')\n",
    "plt.ylabel('Accuracy')\n",
    "plt.xlabel('Epoch')\n",
    "plt.legend(['Train', 'Test'], loc='upper left')\n",
    "plt.show()"
   ]
  },
  {
   "cell_type": "code",
   "execution_count": null,
   "metadata": {},
   "outputs": [],
   "source": [
    "# Plot training & validation loss values\n",
    "plt.plot(history.history['loss'])\n",
    "plt.plot(history.history['val_loss'])\n",
    "plt.title('Model loss')\n",
    "plt.ylabel('Loss')\n",
    "plt.xlabel('Epoch')\n",
    "plt.legend(['Train', 'Test'], loc='upper left')\n",
    "plt.show()"
   ]
  },
  {
   "cell_type": "markdown",
   "metadata": {},
   "source": [
    "### Todo\n",
    "- Expriment to stop model overfiting"
   ]
  }
 ],
 "metadata": {
  "kernelspec": {
   "display_name": "Python 3",
   "language": "python",
   "name": "python3"
  },
  "language_info": {
   "codemirror_mode": {
    "name": "ipython",
    "version": 3
   },
   "file_extension": ".py",
   "mimetype": "text/x-python",
   "name": "python",
   "nbconvert_exporter": "python",
   "pygments_lexer": "ipython3",
   "version": "3.6.8"
  }
 },
 "nbformat": 4,
 "nbformat_minor": 2
}
