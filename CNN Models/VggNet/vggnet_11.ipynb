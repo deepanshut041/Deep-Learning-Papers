{
 "cells": [
  {
   "cell_type": "markdown",
   "metadata": {},
   "source": [
    "#  VGGNet\n",
    "VGGNet is the 1st runner-up, not the winner of the ILSVRC-2014 in the classification task. VGGNet beats the GoogLeNet and won the localization task in ILSVRC 2014\n",
    "\n",
    "### The highlights of the paper\n",
    "- The Use of 3×3 Filters instead of large-size filters (such as 11×11, 7×7).\n",
    "- Multi-Scale Training & Testing\n",
    "- Dense (Convolutionalized) Testing\n",
    "- Model Fusion"
   ]
  },
  {
   "cell_type": "markdown",
   "metadata": {},
   "source": [
    "### The architecture\n",
    "During training, the input to our ConvNets is a fixed-size 224 × 224 RGB image. The only preprocessing we do is subtracting the mean RGB value, computed on the training set, from each pixel. The image is passed through a stack of convolutional (conv.) layers. All hidden layers are equipped with the rectification (ReLU (Krizhevsky et al., 2012)) non-linearity. The width of conv. layers (the number of channels) is rather small, starting from 64 in the first layer and then increasing by a factor of 2 after each max-pooling layer, until it reaches 512. Number of layers depend on VGG-11, VGG-11 (LRN), VGG-13, VGG-16 (Conv1), VGG-16 and VGG-19 architechure.\n",
    "![orignal_architeture](./images/original_architechure.png)\n"
   ]
  },
  {
   "cell_type": "markdown",
   "metadata": {},
   "source": [
    "# VGGNet implementation on Cifar 10"
   ]
  },
  {
   "cell_type": "code",
   "execution_count": 1,
   "metadata": {},
   "outputs": [],
   "source": [
    "import numpy as np\n",
    "import pandas as pd\n",
    "import matplotlib.pyplot as plt\n",
    "%matplotlib inline"
   ]
  },
  {
   "cell_type": "markdown",
   "metadata": {},
   "source": [
    "## Data Loading and Preprocessing"
   ]
  },
  {
   "cell_type": "markdown",
   "metadata": {},
   "source": [
    "### CIFAR10 small image classification\n",
    "Dataset of 50,000 32x32 color training images, labeled over 10 categories, and 10,000 test images.\n",
    "\n",
    "#### Returns 2 tuples:\n",
    "- **x_train, x_test**: uint8 array of RGB image data with shape (num_samples, 32, 32, 3).\n",
    "- **y_train, y_test**: uint8 array of category labels (integers in range 0-9) with shape (num_samples,)."
   ]
  },
  {
   "cell_type": "code",
   "execution_count": 2,
   "metadata": {},
   "outputs": [],
   "source": [
    "from tensorflow.keras.datasets import cifar10\n",
    "(x_train, y_train), (x_test, y_test) = cifar10.load_data()"
   ]
  },
  {
   "cell_type": "code",
   "execution_count": 3,
   "metadata": {},
   "outputs": [
    {
     "name": "stdout",
     "output_type": "stream",
     "text": [
      "Number of training examples = 50000\n",
      "Number of testing examples = 10000\n",
      "Image data shape = (32, 32, 3)\n",
      "Number of classes = 10\n"
     ]
    }
   ],
   "source": [
    "num_classes = 10\n",
    "print(\"Number of training examples =\", len(x_train))\n",
    "print(\"Number of testing examples =\", len(x_test))\n",
    "print(\"Image data shape =\", x_train[0].shape)\n",
    "print(\"Number of classes =\", num_classes)"
   ]
  },
  {
   "cell_type": "code",
   "execution_count": 4,
   "metadata": {
    "scrolled": true
   },
   "outputs": [],
   "source": [
    "x_train = x_train / 255.0\n",
    "y_train = y_train / 255.0"
   ]
  },
  {
   "cell_type": "code",
   "execution_count": 4,
   "metadata": {},
   "outputs": [],
   "source": [
    "# convert to one hot encoing \n",
    "\n",
    "y_train = tf.keras.utils.to_categorical(y_train, num_classes)\n",
    "y_test = tf.keras.utils.to_categorical(y_test, num_classes)"
   ]
  },
  {
   "cell_type": "markdown",
   "metadata": {},
   "source": [
    "## Model Implementation"
   ]
  },
  {
   "cell_type": "code",
   "execution_count": 1,
   "metadata": {},
   "outputs": [],
   "source": [
    "from tensorflow.keras.layers import Conv2D, MaxPool2D, Dense, Input, Activation, BatchNormalization, Flatten, Dropout, Lambda\n",
    "from tensorflow.keras.models import Model\n",
    "import tensorflow as tf"
   ]
  },
  {
   "cell_type": "markdown",
   "metadata": {},
   "source": [
    "### Model Architecture\n",
    "The entire model consists of 14 layers in total. In addition to layers below lists what techniques are applied to build the model.\n",
    "\n",
    "![vggnet.jpg](./images/vggnet.jpg)"
   ]
  },
  {
   "cell_type": "code",
   "execution_count": 6,
   "metadata": {},
   "outputs": [
    {
     "data": {
      "text/plain": [
       "(32, 32, 3)"
      ]
     },
     "execution_count": 6,
     "metadata": {},
     "output_type": "execute_result"
    }
   ],
   "source": [
    "x_train[0].shape"
   ]
  },
  {
   "cell_type": "code",
   "execution_count": 7,
   "metadata": {},
   "outputs": [],
   "source": [
    "def vgg_11A():\n",
    "    # Input Layer\n",
    "    raw_inputs = Input()\n",
    "    \n",
    "    inputs = Lambda(lambda image:tf.image.resize_images(image, [227, 227]))(inputs)\n",
    "    \n",
    "    # Layer 1\n",
    "    layer_1 = Conv2D(filters=64, kernel_size=(3, 3), padding='same', activation='relu')(inputs)\n",
    "    \n",
    "    # Layer 2\n",
    "    layer_2 = MaxPool2D(pool_size=(2, 2), padding='same')(layer_1)\n",
    "    \n",
    "    # Layer 3\n",
    "    layer_3 = Conv2D(filters=128, kernel_size=(3, 3), padding='same', activation='relu')(layer_2)\n",
    "    \n",
    "    # Layer 4\n",
    "    layer_4 = MaxPool2D(pool_size=(2, 2), padding='same')(layer_3)\n",
    "    \n",
    "    # Layer 5\n",
    "    layer_5 = Conv2D(filters=256, kernel_size=(3, 3), padding='same', strides=(1, 1), activation='relu')(layer_4)\n",
    "    \n",
    "    # Layer 6\n",
    "    layer_6 = Conv2D(filters=256, kernel_size=(3, 3), padding='same', activation='relu')(layer_5)\n",
    "    \n",
    "    # Layer 7\n",
    "    layer_7 = MaxPool2D(pool_size=(2, 2), padding='same')(layer_6)\n",
    "    \n",
    "    # Layer 8\n",
    "    layer_8 = Conv2D(filters=512, kernel_size=(3, 3), padding='same', activation='relu')(layer_7)\n",
    "    \n",
    "    # Layer 9\n",
    "    layer_9 = Conv2D(filters=512, kernel_size=(3, 3), padding='same', activation='relu')(layer_8)\n",
    "    \n",
    "    # Layer 10\n",
    "    layer_10 = MaxPool2D(pool_size=(2, 2), padding='same')(layer_9)\n",
    "    \n",
    "    # Layer 11\n",
    "    layer_11 = Conv2D(filters=512, kernel_size=(3, 3), padding='same', activation='relu')(layer_10)\n",
    "    \n",
    "    # Layer 12\n",
    "    layer_12 = Conv2D(filters=512, kernel_size=(3, 3), padding='same', activation='relu')(layer_11)\n",
    "    \n",
    "    # Layer 13\n",
    "    layer_13 = MaxPool2D(pool_size=(2, 2), padding='same')(layer_12)\n",
    "    \n",
    "    # Layer 14\n",
    "    layer_14 = Flatten()(layer_13)\n",
    "    \n",
    "    # Layer 15\n",
    "    layer_15 = Dense(units=4096, activation='relu')(layer_14)\n",
    "    \n",
    "    # Layer 16\n",
    "    layer_16 = Dense(units=4096, activation='relu')(layer_15)\n",
    "    \n",
    "    # Layer 17\n",
    "    layer_17 = Dense(units=1000)(layer_16)\n",
    "    \n",
    "    # Layer 18\n",
    "    layer_18 = Activation(activation='softmax')(layer_17)\n",
    "    \n",
    "    model = Model(inputs, [layer_18])\n",
    "    \n",
    "    model.compile()\n",
    "    \n",
    "    "
   ]
  },
  {
   "cell_type": "code",
   "execution_count": 8,
   "metadata": {},
   "outputs": [
    {
     "ename": "ValueError",
     "evalue": "Please provide to Input either a `shape` or a `tensor` argument. Note that `shape` does not include the batch dimension.",
     "output_type": "error",
     "traceback": [
      "\u001b[0;31m---------------------------------------------------------------------------\u001b[0m",
      "\u001b[0;31mValueError\u001b[0m                                Traceback (most recent call last)",
      "\u001b[0;32m<ipython-input-8-8c27093e98fd>\u001b[0m in \u001b[0;36m<module>\u001b[0;34m\u001b[0m\n\u001b[0;32m----> 1\u001b[0;31m \u001b[0mmodel\u001b[0m \u001b[0;34m=\u001b[0m \u001b[0mvgg_11A\u001b[0m\u001b[0;34m(\u001b[0m\u001b[0;34m)\u001b[0m\u001b[0;34m\u001b[0m\u001b[0;34m\u001b[0m\u001b[0m\n\u001b[0m\u001b[1;32m      2\u001b[0m \u001b[0mmodel\u001b[0m\u001b[0;34m.\u001b[0m\u001b[0msummary\u001b[0m\u001b[0;34m(\u001b[0m\u001b[0;34m)\u001b[0m\u001b[0;34m\u001b[0m\u001b[0;34m\u001b[0m\u001b[0m\n",
      "\u001b[0;32m<ipython-input-7-19cef41e4d8d>\u001b[0m in \u001b[0;36mvgg_11A\u001b[0;34m()\u001b[0m\n\u001b[1;32m      1\u001b[0m \u001b[0;32mdef\u001b[0m \u001b[0mvgg_11A\u001b[0m\u001b[0;34m(\u001b[0m\u001b[0;34m)\u001b[0m\u001b[0;34m:\u001b[0m\u001b[0;34m\u001b[0m\u001b[0;34m\u001b[0m\u001b[0m\n\u001b[1;32m      2\u001b[0m     \u001b[0;31m# Input Layer\u001b[0m\u001b[0;34m\u001b[0m\u001b[0;34m\u001b[0m\u001b[0;34m\u001b[0m\u001b[0m\n\u001b[0;32m----> 3\u001b[0;31m     \u001b[0mraw_inputs\u001b[0m \u001b[0;34m=\u001b[0m \u001b[0mInput\u001b[0m\u001b[0;34m(\u001b[0m\u001b[0;34m)\u001b[0m\u001b[0;34m\u001b[0m\u001b[0;34m\u001b[0m\u001b[0m\n\u001b[0m\u001b[1;32m      4\u001b[0m \u001b[0;34m\u001b[0m\u001b[0m\n\u001b[1;32m      5\u001b[0m     \u001b[0minputs\u001b[0m \u001b[0;34m=\u001b[0m \u001b[0mLambda\u001b[0m\u001b[0;34m(\u001b[0m\u001b[0;32mlambda\u001b[0m \u001b[0mimage\u001b[0m\u001b[0;34m:\u001b[0m\u001b[0mtf\u001b[0m\u001b[0;34m.\u001b[0m\u001b[0mimage\u001b[0m\u001b[0;34m.\u001b[0m\u001b[0mresize_images\u001b[0m\u001b[0;34m(\u001b[0m\u001b[0mimage\u001b[0m\u001b[0;34m,\u001b[0m \u001b[0;34m[\u001b[0m\u001b[0;36m227\u001b[0m\u001b[0;34m,\u001b[0m \u001b[0;36m227\u001b[0m\u001b[0;34m]\u001b[0m\u001b[0;34m)\u001b[0m\u001b[0;34m)\u001b[0m\u001b[0;34m(\u001b[0m\u001b[0minputs\u001b[0m\u001b[0;34m)\u001b[0m\u001b[0;34m\u001b[0m\u001b[0;34m\u001b[0m\u001b[0m\n",
      "\u001b[0;32m~/.conda/envs/smartcar/lib/python3.6/site-packages/tensorflow/python/keras/engine/input_layer.py\u001b[0m in \u001b[0;36mInput\u001b[0;34m(shape, batch_size, name, dtype, sparse, tensor, **kwargs)\u001b[0m\n\u001b[1;32m    217\u001b[0m     \u001b[0mdtype\u001b[0m \u001b[0;34m=\u001b[0m \u001b[0mK\u001b[0m\u001b[0;34m.\u001b[0m\u001b[0mfloatx\u001b[0m\u001b[0;34m(\u001b[0m\u001b[0;34m)\u001b[0m\u001b[0;34m\u001b[0m\u001b[0;34m\u001b[0m\u001b[0m\n\u001b[1;32m    218\u001b[0m   \u001b[0;32mif\u001b[0m \u001b[0mshape\u001b[0m \u001b[0;32mis\u001b[0m \u001b[0;32mNone\u001b[0m \u001b[0;32mand\u001b[0m \u001b[0mtensor\u001b[0m \u001b[0;32mis\u001b[0m \u001b[0;32mNone\u001b[0m\u001b[0;34m:\u001b[0m\u001b[0;34m\u001b[0m\u001b[0;34m\u001b[0m\u001b[0m\n\u001b[0;32m--> 219\u001b[0;31m     raise ValueError('Please provide to Input either a `shape`'\n\u001b[0m\u001b[1;32m    220\u001b[0m                      \u001b[0;34m' or a `tensor` argument. Note that '\u001b[0m\u001b[0;34m\u001b[0m\u001b[0;34m\u001b[0m\u001b[0m\n\u001b[1;32m    221\u001b[0m                      \u001b[0;34m'`shape` does not include the batch '\u001b[0m\u001b[0;34m\u001b[0m\u001b[0;34m\u001b[0m\u001b[0m\n",
      "\u001b[0;31mValueError\u001b[0m: Please provide to Input either a `shape` or a `tensor` argument. Note that `shape` does not include the batch dimension."
     ]
    }
   ],
   "source": [
    "model = vgg_11A()\n",
    "model.summary()"
   ]
  },
  {
   "cell_type": "markdown",
   "metadata": {},
   "source": [
    "## Training"
   ]
  },
  {
   "cell_type": "code",
   "execution_count": 9,
   "metadata": {},
   "outputs": [
    {
     "name": "stdout",
     "output_type": "stream",
     "text": [
      "Train on 40000 samples, validate on 10000 samples\n",
      "Epoch 1/50\n",
      "40000/40000 [==============================] - 65s 2ms/step - loss: 1.9404 - acc: 0.3389 - val_loss: 1.8773 - val_acc: 0.3188\n",
      "Epoch 2/50\n",
      "40000/40000 [==============================] - 58s 1ms/step - loss: 1.3196 - acc: 0.5319 - val_loss: 1.3234 - val_acc: 0.5172\n",
      "Epoch 3/50\n",
      "40000/40000 [==============================] - 58s 1ms/step - loss: 1.0390 - acc: 0.6328 - val_loss: 1.0560 - val_acc: 0.6246\n",
      "Epoch 4/50\n",
      "40000/40000 [==============================] - 65s 2ms/step - loss: 0.8421 - acc: 0.7060 - val_loss: 1.1719 - val_acc: 0.6147\n",
      "Epoch 5/50\n",
      "40000/40000 [==============================] - 58s 1ms/step - loss: 0.7104 - acc: 0.7552 - val_loss: 0.9906 - val_acc: 0.6848\n",
      "Epoch 6/50\n",
      "40000/40000 [==============================] - 57s 1ms/step - loss: 0.6054 - acc: 0.7914 - val_loss: 1.0933 - val_acc: 0.6836\n",
      "Epoch 7/50\n",
      "40000/40000 [==============================] - 59s 1ms/step - loss: 0.5124 - acc: 0.8251 - val_loss: 0.8151 - val_acc: 0.7463\n",
      "Epoch 8/50\n",
      "40000/40000 [==============================] - 60s 1ms/step - loss: 0.3959 - acc: 0.8666 - val_loss: 0.8795 - val_acc: 0.7407\n",
      "Epoch 9/50\n",
      "40000/40000 [==============================] - 58s 1ms/step - loss: 0.3343 - acc: 0.8863 - val_loss: 0.9451 - val_acc: 0.7437\n",
      "Epoch 10/50\n",
      "40000/40000 [==============================] - 61s 2ms/step - loss: 0.2689 - acc: 0.9107 - val_loss: 0.8430 - val_acc: 0.7707\n",
      "Epoch 11/50\n",
      "40000/40000 [==============================] - 61s 2ms/step - loss: 0.1995 - acc: 0.9343 - val_loss: 1.1232 - val_acc: 0.7356\n",
      "Epoch 12/50\n",
      "40000/40000 [==============================] - 58s 1ms/step - loss: 0.2044 - acc: 0.9333 - val_loss: 0.8803 - val_acc: 0.7794\n",
      "Epoch 13/50\n",
      "40000/40000 [==============================] - 62s 2ms/step - loss: 0.1449 - acc: 0.9525 - val_loss: 1.1271 - val_acc: 0.7458\n",
      "Epoch 14/50\n",
      "40000/40000 [==============================] - 67s 2ms/step - loss: 0.1305 - acc: 0.9574 - val_loss: 1.3599 - val_acc: 0.7299\n",
      "Epoch 15/50\n",
      "40000/40000 [==============================] - 61s 2ms/step - loss: 0.1207 - acc: 0.9603 - val_loss: 1.1263 - val_acc: 0.7558\n",
      "Epoch 16/50\n",
      "40000/40000 [==============================] - 69s 2ms/step - loss: 0.1240 - acc: 0.9591 - val_loss: 1.0941 - val_acc: 0.7639\n",
      "Epoch 17/50\n",
      "40000/40000 [==============================] - 57s 1ms/step - loss: 0.0861 - acc: 0.9718 - val_loss: 1.2752 - val_acc: 0.7409\n",
      "Epoch 18/50\n",
      "40000/40000 [==============================] - 62s 2ms/step - loss: 0.1089 - acc: 0.9640 - val_loss: 1.1237 - val_acc: 0.7696\n",
      "Epoch 19/50\n",
      "40000/40000 [==============================] - 64s 2ms/step - loss: 0.0852 - acc: 0.9722 - val_loss: 1.4846 - val_acc: 0.7283\n",
      "Epoch 20/50\n",
      "40000/40000 [==============================] - 64s 2ms/step - loss: 0.0623 - acc: 0.9795 - val_loss: 1.1319 - val_acc: 0.7802\n",
      "Epoch 21/50\n",
      "40000/40000 [==============================] - 60s 2ms/step - loss: 0.0608 - acc: 0.9799 - val_loss: 1.3421 - val_acc: 0.7398\n",
      "Epoch 22/50\n",
      "40000/40000 [==============================] - 59s 1ms/step - loss: 0.1377 - acc: 0.9557 - val_loss: 1.1217 - val_acc: 0.7656\n",
      "Epoch 23/50\n",
      "40000/40000 [==============================] - 57s 1ms/step - loss: 0.0858 - acc: 0.9710 - val_loss: 1.1516 - val_acc: 0.7691\n",
      "Epoch 24/50\n",
      "40000/40000 [==============================] - 58s 1ms/step - loss: 0.0392 - acc: 0.9873 - val_loss: 1.3493 - val_acc: 0.7585\n",
      "Epoch 25/50\n",
      "40000/40000 [==============================] - 60s 2ms/step - loss: 0.0547 - acc: 0.9825 - val_loss: 1.2142 - val_acc: 0.7795\n",
      "Epoch 26/50\n",
      "40000/40000 [==============================] - 57s 1ms/step - loss: 0.0527 - acc: 0.9832 - val_loss: 1.0990 - val_acc: 0.7857\n",
      "Epoch 27/50\n",
      "40000/40000 [==============================] - 59s 1ms/step - loss: 0.0412 - acc: 0.9873 - val_loss: 1.2918 - val_acc: 0.7622\n",
      "Epoch 28/50\n",
      "40000/40000 [==============================] - 59s 1ms/step - loss: 0.0352 - acc: 0.9889 - val_loss: 1.2856 - val_acc: 0.7718\n",
      "Epoch 29/50\n",
      "40000/40000 [==============================] - 58s 1ms/step - loss: 0.0564 - acc: 0.9827 - val_loss: 1.2348 - val_acc: 0.7612\n",
      "Epoch 30/50\n",
      "40000/40000 [==============================] - 62s 2ms/step - loss: 0.0614 - acc: 0.9802 - val_loss: 1.0940 - val_acc: 0.7808\n",
      "Epoch 31/50\n",
      "40000/40000 [==============================] - 63s 2ms/step - loss: 0.0482 - acc: 0.9843 - val_loss: 1.3662 - val_acc: 0.7522\n",
      "Epoch 32/50\n",
      "40000/40000 [==============================] - 59s 1ms/step - loss: 0.0342 - acc: 0.9895 - val_loss: 1.2255 - val_acc: 0.7772\n",
      "Epoch 33/50\n",
      "40000/40000 [==============================] - 57s 1ms/step - loss: 0.0409 - acc: 0.9869 - val_loss: 1.2192 - val_acc: 0.7753\n",
      "Epoch 34/50\n",
      "40000/40000 [==============================] - 61s 2ms/step - loss: 0.0436 - acc: 0.9862 - val_loss: 1.1923 - val_acc: 0.7738\n",
      "Epoch 35/50\n",
      "40000/40000 [==============================] - 55s 1ms/step - loss: 0.0281 - acc: 0.9905 - val_loss: 1.2928 - val_acc: 0.7728\n",
      "Epoch 36/50\n",
      "40000/40000 [==============================] - 57s 1ms/step - loss: 0.0273 - acc: 0.9912 - val_loss: 1.6074 - val_acc: 0.7258\n",
      "Epoch 37/50\n",
      "40000/40000 [==============================] - 55s 1ms/step - loss: 0.0672 - acc: 0.9780 - val_loss: 1.1773 - val_acc: 0.7752\n",
      "Epoch 38/50\n",
      "40000/40000 [==============================] - 55s 1ms/step - loss: 0.0252 - acc: 0.9917 - val_loss: 1.3223 - val_acc: 0.7787\n",
      "Epoch 39/50\n",
      "40000/40000 [==============================] - 55s 1ms/step - loss: 0.0326 - acc: 0.9894 - val_loss: 1.3738 - val_acc: 0.7677\n",
      "Epoch 40/50\n",
      "40000/40000 [==============================] - 55s 1ms/step - loss: 0.0271 - acc: 0.9912 - val_loss: 1.3072 - val_acc: 0.7748\n",
      "Epoch 41/50\n",
      "40000/40000 [==============================] - 55s 1ms/step - loss: 0.0204 - acc: 0.9938 - val_loss: 1.3077 - val_acc: 0.7766\n",
      "Epoch 42/50\n",
      "40000/40000 [==============================] - 55s 1ms/step - loss: 0.0193 - acc: 0.9936 - val_loss: 1.3706 - val_acc: 0.7736\n",
      "Epoch 43/50\n",
      "40000/40000 [==============================] - 64s 2ms/step - loss: 0.0207 - acc: 0.9936 - val_loss: 1.3584 - val_acc: 0.7727\n",
      "Epoch 44/50\n",
      "40000/40000 [==============================] - 63s 2ms/step - loss: 0.0323 - acc: 0.9900 - val_loss: 1.2489 - val_acc: 0.7813\n",
      "Epoch 45/50\n",
      "40000/40000 [==============================] - 57s 1ms/step - loss: 0.0718 - acc: 0.9785 - val_loss: 1.1412 - val_acc: 0.7821\n",
      "Epoch 46/50\n",
      "40000/40000 [==============================] - 57s 1ms/step - loss: 0.0327 - acc: 0.9894 - val_loss: 1.2652 - val_acc: 0.7837\n",
      "Epoch 47/50\n",
      "40000/40000 [==============================] - 59s 1ms/step - loss: 0.0163 - acc: 0.9947 - val_loss: 1.3472 - val_acc: 0.7792\n",
      "Epoch 48/50\n",
      "40000/40000 [==============================] - 59s 1ms/step - loss: 0.0214 - acc: 0.9936 - val_loss: 1.3024 - val_acc: 0.7786\n",
      "Epoch 49/50\n",
      "40000/40000 [==============================] - 60s 2ms/step - loss: 0.0365 - acc: 0.9885 - val_loss: 1.3105 - val_acc: 0.7745\n",
      "Epoch 50/50\n",
      "40000/40000 [==============================] - 66s 2ms/step - loss: 0.0283 - acc: 0.9910 - val_loss: 1.2631 - val_acc: 0.7757\n"
     ]
    },
    {
     "data": {
      "text/plain": [
       "<tensorflow.python.keras.callbacks.History at 0x7f5b5f944e48>"
      ]
     },
     "execution_count": 9,
     "metadata": {},
     "output_type": "execute_result"
    }
   ],
   "source": [
    "model.fit(x=x_train, y=y_train, epochs=50, batch_size=512, validation_split=0.2)"
   ]
  },
  {
   "cell_type": "markdown",
   "metadata": {},
   "source": [
    "## Testing"
   ]
  },
  {
   "cell_type": "code",
   "execution_count": 10,
   "metadata": {},
   "outputs": [
    {
     "name": "stdout",
     "output_type": "stream",
     "text": [
      "10000/10000 [==============================] - 7s 723us/step\n"
     ]
    },
    {
     "data": {
      "text/plain": [
       "[1.317466844367981, 0.7675]"
      ]
     },
     "execution_count": 10,
     "metadata": {},
     "output_type": "execute_result"
    }
   ],
   "source": [
    "model.evaluate(x=x_test, y=y_test)"
   ]
  },
  {
   "cell_type": "code",
   "execution_count": 11,
   "metadata": {},
   "outputs": [],
   "source": [
    "model.save('model.h5')\n",
    "history = model.history"
   ]
  },
  {
   "cell_type": "markdown",
   "metadata": {},
   "source": [
    "## Results\n",
    " \n",
    "### Training from scratch\n",
    "\n",
    "Training AlexNet, using stochastic gradient descent with a fixed learning rate of 0.01, for 50 epochs, we acheive a test accuracy of ~76.75%.\n",
    "\n",
    "In accuracy and loss plot shown below, notice the large gap between the training and testing curves. This suggests that our model is overfitting."
   ]
  },
  {
   "cell_type": "code",
   "execution_count": 12,
   "metadata": {},
   "outputs": [
    {
     "data": {
      "image/png": "[encoded data removed]",
      "text/plain": [
       "<Figure size 432x288 with 1 Axes>"
      ]
     },
     "metadata": {
      "needs_background": "light"
     },
     "output_type": "display_data"
    }
   ],
   "source": [
    "# Plot training & validation accuracy values\n",
    "plt.plot(history.history['acc'])\n",
    "plt.plot(history.history['val_acc'])\n",
    "plt.title('Model accuracy')\n",
    "plt.ylabel('Accuracy')\n",
    "plt.xlabel('Epoch')\n",
    "plt.legend(['Train', 'Test'], loc='upper left')\n",
    "plt.show()"
   ]
  },
  {
   "cell_type": "code",
   "execution_count": 13,
   "metadata": {},
   "outputs": [
    {
     "data": {
      "image/png": "[encoded data removed]",
      "text/plain": [
       "<Figure size 432x288 with 1 Axes>"
      ]
     },
     "metadata": {
      "needs_background": "light"
     },
     "output_type": "display_data"
    }
   ],
   "source": [
    "# Plot training & validation loss values\n",
    "plt.plot(history.history['loss'])\n",
    "plt.plot(history.history['val_loss'])\n",
    "plt.title('Model loss')\n",
    "plt.ylabel('Loss')\n",
    "plt.xlabel('Epoch')\n",
    "plt.legend(['Train', 'Test'], loc='upper left')\n",
    "plt.show()"
   ]
  },
  {
   "cell_type": "markdown",
   "metadata": {},
   "source": [
    "### Todo\n",
    "- Expriment to stop model overfiting"
   ]
  }
 ],
 "metadata": {
  "kernelspec": {
   "display_name": "Python 3",
   "language": "python",
   "name": "python3"
  },
  "language_info": {
   "codemirror_mode": {
    "name": "ipython",
    "version": 3
   },
   "file_extension": ".py",
   "mimetype": "text/x-python",
   "name": "python",
   "nbconvert_exporter": "python",
   "pygments_lexer": "ipython3",
   "version": "3.6.7"
  }
 },
 "nbformat": 4,
 "nbformat_minor": 2
}
